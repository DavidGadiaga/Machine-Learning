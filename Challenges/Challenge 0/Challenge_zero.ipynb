{
  "cells": [
    {
      "cell_type": "markdown",
      "source": [
        "# Challenge $0$\n"
      ],
      "metadata": {
        "id": "2adzcfnbRZZY"
      },
      "id": "2adzcfnbRZZY"
    },
    {
      "cell_type": "markdown",
      "id": "eccd6e67",
      "metadata": {
        "id": "eccd6e67"
      },
      "source": [
        "## 1. ***Data cleaning with Pandas***\n",
        "\n",
        "Use the library `pandas` to load and clean the required dataset."
      ]
    },
    {
      "cell_type": "code",
      "execution_count": 1,
      "id": "39ae18d1",
      "metadata": {
        "id": "39ae18d1"
      },
      "outputs": [],
      "source": [
        "import numpy as np\n",
        "import matplotlib.pyplot as plt\n",
        "import pandas as pd\n",
        "import os\n",
        "from seaborn import pairplot"
      ]
    },
    {
      "cell_type": "markdown",
      "source": [
        "Obtain the data file"
      ],
      "metadata": {
        "id": "6XPiwcNUPJAw"
      },
      "id": "6XPiwcNUPJAw"
    },
    {
      "cell_type": "code",
      "source": [
        "FFILE = './50_Startups.csv'\n",
        "if os.path.isfile(FFILE):\n",
        "    print(\"File already exists\")\n",
        "    if os.access(FFILE, os.R_OK):\n",
        "        print (\"File is readable\")\n",
        "    else:\n",
        "        print (\"File is not readable, removing it and downloading again\")\n",
        "        !rm FFILE\n",
        "        !wget \"https://raw.github.com/alexdepremia/ML_IADA_UTs/main/challenge_0/50_Startups.csv\"\n",
        "else:\n",
        "    print(\"Either the file is missing or not readable, download it\")\n",
        "    !wget \"https://raw.github.com/alexdepremia/ML_IADA_UTs/main/challenge_0/50_Startups.csv\""
      ],
      "metadata": {
        "id": "AkGFWaHZOi-l",
        "colab": {
          "base_uri": "https://localhost:8080/"
        },
        "outputId": "5e9ad7d8-5d13-4a75-ff3c-984615d4a7a0"
      },
      "id": "AkGFWaHZOi-l",
      "execution_count": 2,
      "outputs": [
        {
          "output_type": "stream",
          "name": "stdout",
          "text": [
            "Either the file is missing or not readable, download it\n",
            "--2023-11-23 16:15:23--  https://raw.github.com/alexdepremia/ML_IADA_UTs/main/challenge_0/50_Startups.csv\n",
            "Resolving raw.github.com (raw.github.com)... 185.199.109.133, 185.199.108.133, 185.199.110.133, ...\n",
            "Connecting to raw.github.com (raw.github.com)|185.199.109.133|:443... connected.\n",
            "HTTP request sent, awaiting response... 301 Moved Permanently\n",
            "Location: https://raw.githubusercontent.com/alexdepremia/ML_IADA_UTs/main/challenge_0/50_Startups.csv [following]\n",
            "--2023-11-23 16:15:23--  https://raw.githubusercontent.com/alexdepremia/ML_IADA_UTs/main/challenge_0/50_Startups.csv\n",
            "Resolving raw.githubusercontent.com (raw.githubusercontent.com)... 185.199.108.133, 185.199.109.133, 185.199.110.133, ...\n",
            "Connecting to raw.githubusercontent.com (raw.githubusercontent.com)|185.199.108.133|:443... connected.\n",
            "HTTP request sent, awaiting response... 200 OK\n",
            "Length: 2436 (2.4K) [text/plain]\n",
            "Saving to: ‘50_Startups.csv’\n",
            "\n",
            "50_Startups.csv     100%[===================>]   2.38K  --.-KB/s    in 0s      \n",
            "\n",
            "2023-11-23 16:15:23 (50.7 MB/s) - ‘50_Startups.csv’ saved [2436/2436]\n",
            "\n"
          ]
        }
      ]
    },
    {
      "cell_type": "code",
      "execution_count": 3,
      "id": "984f3c35",
      "metadata": {
        "id": "984f3c35"
      },
      "outputs": [],
      "source": [
        "# load the dataset using pandas\n",
        "data = pd.read_csv('50_Startups.csv')\n",
        "\n",
        "# Extracting the features (independent variables) and labels (dependent variable)\n",
        "# Features (X) are taken from all columns except the last two\n",
        "X = data.iloc[:,:-2].values\n",
        "\n",
        "# Labels (y) are taken from the third column (index 3, considering the 0-based index in Python)\n",
        "y = data.iloc[:,3].values\n",
        "\n",
        "df = pd.DataFrame(data)"
      ]
    },
    {
      "cell_type": "code",
      "execution_count": null,
      "id": "d4ef5d4c",
      "metadata": {
        "id": "d4ef5d4c",
        "colab": {
          "base_uri": "https://localhost:8080/"
        },
        "outputId": "6e9b7a85-1896-41a7-9ba1-c68ef1b898cd"
      },
      "outputs": [
        {
          "output_type": "execute_result",
          "data": {
            "text/plain": [
              "array(['New York', 'California', 'Florida', 'New York', 'Florida',\n",
              "       'New York', 'California', 'Florida', 'New York', 'California',\n",
              "       'Florida', 'California', 'Florida', 'California', 'Florida',\n",
              "       'New York', 'California', 'New York', 'Florida', 'New York',\n",
              "       'California', 'New York', 'Florida', 'Florida', 'New York',\n",
              "       'California', 'Florida', 'New York', 'Florida', 'New York',\n",
              "       'Florida', 'New York', 'California', 'Florida', 'California',\n",
              "       'New York', 'Florida', 'California', 'New York', 'California',\n",
              "       'California', 'Florida', 'California', 'New York', 'California',\n",
              "       'New York', 'Florida', 'California', 'New York', 'California'],\n",
              "      dtype=object)"
            ]
          },
          "metadata": {},
          "execution_count": 142
        }
      ],
      "source": [
        "y"
      ]
    },
    {
      "cell_type": "code",
      "source": [
        "X"
      ],
      "metadata": {
        "colab": {
          "base_uri": "https://localhost:8080/"
        },
        "id": "q2m02UvpbJjW",
        "outputId": "d94d0b86-cfc3-4cc5-a24f-6fa87a69f31d"
      },
      "id": "q2m02UvpbJjW",
      "execution_count": null,
      "outputs": [
        {
          "output_type": "execute_result",
          "data": {
            "text/plain": [
              "array([[165349.2 , 136897.8 , 471784.1 ],\n",
              "       [162597.7 , 151377.59, 443898.53],\n",
              "       [153441.51, 101145.55, 407934.54],\n",
              "       [144372.41, 118671.85, 383199.62],\n",
              "       [142107.34,  91391.77, 366168.42],\n",
              "       [131876.9 ,  99814.71, 362861.36],\n",
              "       [134615.46, 147198.87, 127716.82],\n",
              "       [130298.13, 145530.06, 323876.68],\n",
              "       [120542.52, 148718.95, 311613.29],\n",
              "       [123334.88, 108679.17, 304981.62],\n",
              "       [101913.08, 110594.11, 229160.95],\n",
              "       [100671.96,  91790.61, 249744.55],\n",
              "       [ 93863.75, 127320.38, 249839.44],\n",
              "       [ 91992.39, 135495.07, 252664.93],\n",
              "       [119943.24, 156547.42, 256512.92],\n",
              "       [114523.61, 122616.84, 261776.23],\n",
              "       [ 78013.11, 121597.55, 264346.06],\n",
              "       [ 94657.16, 145077.58, 282574.31],\n",
              "       [ 91749.16, 114175.79, 294919.57],\n",
              "       [ 86419.7 , 153514.11,      0.  ],\n",
              "       [ 76253.86, 113867.3 , 298664.47],\n",
              "       [ 78389.47, 153773.43, 299737.29],\n",
              "       [ 73994.56, 122782.75, 303319.26],\n",
              "       [ 67532.53, 105751.03, 304768.73],\n",
              "       [ 77044.01,  99281.34, 140574.81],\n",
              "       [ 64664.71, 139553.16, 137962.62],\n",
              "       [ 75328.87, 144135.98, 134050.07],\n",
              "       [ 72107.6 , 127864.55, 353183.81],\n",
              "       [ 66051.52, 182645.56, 118148.2 ],\n",
              "       [ 65605.48, 153032.06, 107138.38],\n",
              "       [ 61994.48, 115641.28,  91131.24],\n",
              "       [ 61136.38, 152701.92,  88218.23],\n",
              "       [ 63408.86, 129219.61,  46085.25],\n",
              "       [ 55493.95, 103057.49, 214634.81],\n",
              "       [ 46426.07, 157693.92, 210797.67],\n",
              "       [ 46014.02,  85047.44, 205517.64],\n",
              "       [ 28663.76, 127056.21, 201126.82],\n",
              "       [ 44069.95,  51283.14, 197029.42],\n",
              "       [ 20229.59,  65947.93, 185265.1 ],\n",
              "       [ 38558.51,  82982.09, 174999.3 ],\n",
              "       [ 28754.33, 118546.05, 172795.67],\n",
              "       [ 27892.92,  84710.77, 164470.71],\n",
              "       [ 23640.93,  96189.63, 148001.11],\n",
              "       [ 15505.73, 127382.3 ,  35534.17],\n",
              "       [ 22177.74, 154806.14,  28334.72],\n",
              "       [  1000.23, 124153.04,   1903.93],\n",
              "       [  1315.46, 115816.21, 297114.46],\n",
              "       [     0.  , 135426.92,      0.  ],\n",
              "       [   542.05,  51743.15,      0.  ],\n",
              "       [     0.  , 116983.8 ,  45173.06]])"
            ]
          },
          "metadata": {},
          "execution_count": 143
        }
      ]
    },
    {
      "cell_type": "markdown",
      "id": "6c52b5bb",
      "metadata": {
        "id": "6c52b5bb"
      },
      "source": [
        "***Play with data***"
      ]
    },
    {
      "cell_type": "code",
      "execution_count": 4,
      "id": "6bc66e09",
      "metadata": {
        "scrolled": true,
        "id": "6bc66e09",
        "colab": {
          "base_uri": "https://localhost:8080/"
        },
        "outputId": "30145a36-8aa7-42d9-ca40-ce502748543f"
      },
      "outputs": [
        {
          "output_type": "execute_result",
          "data": {
            "text/plain": [
              "(50, 5)"
            ]
          },
          "metadata": {},
          "execution_count": 4
        }
      ],
      "source": [
        "df.shape"
      ]
    },
    {
      "cell_type": "code",
      "execution_count": 5,
      "id": "9f5107f7",
      "metadata": {
        "id": "9f5107f7",
        "colab": {
          "base_uri": "https://localhost:8080/",
          "height": 261
        },
        "outputId": "e6a76ce3-8916-48f5-e4d2-12e2e1befcde"
      },
      "outputs": [
        {
          "output_type": "stream",
          "name": "stderr",
          "text": [
            "<ipython-input-5-84577155662a>:1: FutureWarning: The default value of numeric_only in DataFrame.mean is deprecated. In a future version, it will default to False. In addition, specifying 'numeric_only=None' is deprecated. Select only valid columns or specify the value of numeric_only to silence this warning.\n",
            "  df.replace(to_replace = 0.00, value = df.mean(axis=0), inplace=True)  # inject the mean of the column when value is 0\n"
          ]
        },
        {
          "output_type": "execute_result",
          "data": {
            "text/plain": [
              "   R&D Spend  Administration  Marketing Spend       State     Profit\n",
              "0  165349.20       136897.80        471784.10    New York  192261.83\n",
              "1  162597.70       151377.59        443898.53  California  191792.06\n",
              "2  153441.51       101145.55        407934.54     Florida  191050.39\n",
              "3  144372.41       118671.85        383199.62    New York  182901.99\n",
              "4  142107.34        91391.77        366168.42     Florida  166187.94"
            ],
            "text/html": [
              "\n",
              "  <div id=\"df-e64b06cd-b7c4-41e9-896a-2e501b8c2ff1\" class=\"colab-df-container\">\n",
              "    <div>\n",
              "<style scoped>\n",
              "    .dataframe tbody tr th:only-of-type {\n",
              "        vertical-align: middle;\n",
              "    }\n",
              "\n",
              "    .dataframe tbody tr th {\n",
              "        vertical-align: top;\n",
              "    }\n",
              "\n",
              "    .dataframe thead th {\n",
              "        text-align: right;\n",
              "    }\n",
              "</style>\n",
              "<table border=\"1\" class=\"dataframe\">\n",
              "  <thead>\n",
              "    <tr style=\"text-align: right;\">\n",
              "      <th></th>\n",
              "      <th>R&amp;D Spend</th>\n",
              "      <th>Administration</th>\n",
              "      <th>Marketing Spend</th>\n",
              "      <th>State</th>\n",
              "      <th>Profit</th>\n",
              "    </tr>\n",
              "  </thead>\n",
              "  <tbody>\n",
              "    <tr>\n",
              "      <th>0</th>\n",
              "      <td>165349.20</td>\n",
              "      <td>136897.80</td>\n",
              "      <td>471784.10</td>\n",
              "      <td>New York</td>\n",
              "      <td>192261.83</td>\n",
              "    </tr>\n",
              "    <tr>\n",
              "      <th>1</th>\n",
              "      <td>162597.70</td>\n",
              "      <td>151377.59</td>\n",
              "      <td>443898.53</td>\n",
              "      <td>California</td>\n",
              "      <td>191792.06</td>\n",
              "    </tr>\n",
              "    <tr>\n",
              "      <th>2</th>\n",
              "      <td>153441.51</td>\n",
              "      <td>101145.55</td>\n",
              "      <td>407934.54</td>\n",
              "      <td>Florida</td>\n",
              "      <td>191050.39</td>\n",
              "    </tr>\n",
              "    <tr>\n",
              "      <th>3</th>\n",
              "      <td>144372.41</td>\n",
              "      <td>118671.85</td>\n",
              "      <td>383199.62</td>\n",
              "      <td>New York</td>\n",
              "      <td>182901.99</td>\n",
              "    </tr>\n",
              "    <tr>\n",
              "      <th>4</th>\n",
              "      <td>142107.34</td>\n",
              "      <td>91391.77</td>\n",
              "      <td>366168.42</td>\n",
              "      <td>Florida</td>\n",
              "      <td>166187.94</td>\n",
              "    </tr>\n",
              "  </tbody>\n",
              "</table>\n",
              "</div>\n",
              "    <div class=\"colab-df-buttons\">\n",
              "\n",
              "  <div class=\"colab-df-container\">\n",
              "    <button class=\"colab-df-convert\" onclick=\"convertToInteractive('df-e64b06cd-b7c4-41e9-896a-2e501b8c2ff1')\"\n",
              "            title=\"Convert this dataframe to an interactive table.\"\n",
              "            style=\"display:none;\">\n",
              "\n",
              "  <svg xmlns=\"http://www.w3.org/2000/svg\" height=\"24px\" viewBox=\"0 -960 960 960\">\n",
              "    <path d=\"M120-120v-720h720v720H120Zm60-500h600v-160H180v160Zm220 220h160v-160H400v160Zm0 220h160v-160H400v160ZM180-400h160v-160H180v160Zm440 0h160v-160H620v160ZM180-180h160v-160H180v160Zm440 0h160v-160H620v160Z\"/>\n",
              "  </svg>\n",
              "    </button>\n",
              "\n",
              "  <style>\n",
              "    .colab-df-container {\n",
              "      display:flex;\n",
              "      gap: 12px;\n",
              "    }\n",
              "\n",
              "    .colab-df-convert {\n",
              "      background-color: #E8F0FE;\n",
              "      border: none;\n",
              "      border-radius: 50%;\n",
              "      cursor: pointer;\n",
              "      display: none;\n",
              "      fill: #1967D2;\n",
              "      height: 32px;\n",
              "      padding: 0 0 0 0;\n",
              "      width: 32px;\n",
              "    }\n",
              "\n",
              "    .colab-df-convert:hover {\n",
              "      background-color: #E2EBFA;\n",
              "      box-shadow: 0px 1px 2px rgba(60, 64, 67, 0.3), 0px 1px 3px 1px rgba(60, 64, 67, 0.15);\n",
              "      fill: #174EA6;\n",
              "    }\n",
              "\n",
              "    .colab-df-buttons div {\n",
              "      margin-bottom: 4px;\n",
              "    }\n",
              "\n",
              "    [theme=dark] .colab-df-convert {\n",
              "      background-color: #3B4455;\n",
              "      fill: #D2E3FC;\n",
              "    }\n",
              "\n",
              "    [theme=dark] .colab-df-convert:hover {\n",
              "      background-color: #434B5C;\n",
              "      box-shadow: 0px 1px 3px 1px rgba(0, 0, 0, 0.15);\n",
              "      filter: drop-shadow(0px 1px 2px rgba(0, 0, 0, 0.3));\n",
              "      fill: #FFFFFF;\n",
              "    }\n",
              "  </style>\n",
              "\n",
              "    <script>\n",
              "      const buttonEl =\n",
              "        document.querySelector('#df-e64b06cd-b7c4-41e9-896a-2e501b8c2ff1 button.colab-df-convert');\n",
              "      buttonEl.style.display =\n",
              "        google.colab.kernel.accessAllowed ? 'block' : 'none';\n",
              "\n",
              "      async function convertToInteractive(key) {\n",
              "        const element = document.querySelector('#df-e64b06cd-b7c4-41e9-896a-2e501b8c2ff1');\n",
              "        const dataTable =\n",
              "          await google.colab.kernel.invokeFunction('convertToInteractive',\n",
              "                                                    [key], {});\n",
              "        if (!dataTable) return;\n",
              "\n",
              "        const docLinkHtml = 'Like what you see? Visit the ' +\n",
              "          '<a target=\"_blank\" href=https://colab.research.google.com/notebooks/data_table.ipynb>data table notebook</a>'\n",
              "          + ' to learn more about interactive tables.';\n",
              "        element.innerHTML = '';\n",
              "        dataTable['output_type'] = 'display_data';\n",
              "        await google.colab.output.renderOutput(dataTable, element);\n",
              "        const docLink = document.createElement('div');\n",
              "        docLink.innerHTML = docLinkHtml;\n",
              "        element.appendChild(docLink);\n",
              "      }\n",
              "    </script>\n",
              "  </div>\n",
              "\n",
              "\n",
              "<div id=\"df-d42eaf0e-1da0-4092-86e4-4a9f5ef9a3ae\">\n",
              "  <button class=\"colab-df-quickchart\" onclick=\"quickchart('df-d42eaf0e-1da0-4092-86e4-4a9f5ef9a3ae')\"\n",
              "            title=\"Suggest charts\"\n",
              "            style=\"display:none;\">\n",
              "\n",
              "<svg xmlns=\"http://www.w3.org/2000/svg\" height=\"24px\"viewBox=\"0 0 24 24\"\n",
              "     width=\"24px\">\n",
              "    <g>\n",
              "        <path d=\"M19 3H5c-1.1 0-2 .9-2 2v14c0 1.1.9 2 2 2h14c1.1 0 2-.9 2-2V5c0-1.1-.9-2-2-2zM9 17H7v-7h2v7zm4 0h-2V7h2v10zm4 0h-2v-4h2v4z\"/>\n",
              "    </g>\n",
              "</svg>\n",
              "  </button>\n",
              "\n",
              "<style>\n",
              "  .colab-df-quickchart {\n",
              "      --bg-color: #E8F0FE;\n",
              "      --fill-color: #1967D2;\n",
              "      --hover-bg-color: #E2EBFA;\n",
              "      --hover-fill-color: #174EA6;\n",
              "      --disabled-fill-color: #AAA;\n",
              "      --disabled-bg-color: #DDD;\n",
              "  }\n",
              "\n",
              "  [theme=dark] .colab-df-quickchart {\n",
              "      --bg-color: #3B4455;\n",
              "      --fill-color: #D2E3FC;\n",
              "      --hover-bg-color: #434B5C;\n",
              "      --hover-fill-color: #FFFFFF;\n",
              "      --disabled-bg-color: #3B4455;\n",
              "      --disabled-fill-color: #666;\n",
              "  }\n",
              "\n",
              "  .colab-df-quickchart {\n",
              "    background-color: var(--bg-color);\n",
              "    border: none;\n",
              "    border-radius: 50%;\n",
              "    cursor: pointer;\n",
              "    display: none;\n",
              "    fill: var(--fill-color);\n",
              "    height: 32px;\n",
              "    padding: 0;\n",
              "    width: 32px;\n",
              "  }\n",
              "\n",
              "  .colab-df-quickchart:hover {\n",
              "    background-color: var(--hover-bg-color);\n",
              "    box-shadow: 0 1px 2px rgba(60, 64, 67, 0.3), 0 1px 3px 1px rgba(60, 64, 67, 0.15);\n",
              "    fill: var(--button-hover-fill-color);\n",
              "  }\n",
              "\n",
              "  .colab-df-quickchart-complete:disabled,\n",
              "  .colab-df-quickchart-complete:disabled:hover {\n",
              "    background-color: var(--disabled-bg-color);\n",
              "    fill: var(--disabled-fill-color);\n",
              "    box-shadow: none;\n",
              "  }\n",
              "\n",
              "  .colab-df-spinner {\n",
              "    border: 2px solid var(--fill-color);\n",
              "    border-color: transparent;\n",
              "    border-bottom-color: var(--fill-color);\n",
              "    animation:\n",
              "      spin 1s steps(1) infinite;\n",
              "  }\n",
              "\n",
              "  @keyframes spin {\n",
              "    0% {\n",
              "      border-color: transparent;\n",
              "      border-bottom-color: var(--fill-color);\n",
              "      border-left-color: var(--fill-color);\n",
              "    }\n",
              "    20% {\n",
              "      border-color: transparent;\n",
              "      border-left-color: var(--fill-color);\n",
              "      border-top-color: var(--fill-color);\n",
              "    }\n",
              "    30% {\n",
              "      border-color: transparent;\n",
              "      border-left-color: var(--fill-color);\n",
              "      border-top-color: var(--fill-color);\n",
              "      border-right-color: var(--fill-color);\n",
              "    }\n",
              "    40% {\n",
              "      border-color: transparent;\n",
              "      border-right-color: var(--fill-color);\n",
              "      border-top-color: var(--fill-color);\n",
              "    }\n",
              "    60% {\n",
              "      border-color: transparent;\n",
              "      border-right-color: var(--fill-color);\n",
              "    }\n",
              "    80% {\n",
              "      border-color: transparent;\n",
              "      border-right-color: var(--fill-color);\n",
              "      border-bottom-color: var(--fill-color);\n",
              "    }\n",
              "    90% {\n",
              "      border-color: transparent;\n",
              "      border-bottom-color: var(--fill-color);\n",
              "    }\n",
              "  }\n",
              "</style>\n",
              "\n",
              "  <script>\n",
              "    async function quickchart(key) {\n",
              "      const quickchartButtonEl =\n",
              "        document.querySelector('#' + key + ' button');\n",
              "      quickchartButtonEl.disabled = true;  // To prevent multiple clicks.\n",
              "      quickchartButtonEl.classList.add('colab-df-spinner');\n",
              "      try {\n",
              "        const charts = await google.colab.kernel.invokeFunction(\n",
              "            'suggestCharts', [key], {});\n",
              "      } catch (error) {\n",
              "        console.error('Error during call to suggestCharts:', error);\n",
              "      }\n",
              "      quickchartButtonEl.classList.remove('colab-df-spinner');\n",
              "      quickchartButtonEl.classList.add('colab-df-quickchart-complete');\n",
              "    }\n",
              "    (() => {\n",
              "      let quickchartButtonEl =\n",
              "        document.querySelector('#df-d42eaf0e-1da0-4092-86e4-4a9f5ef9a3ae button');\n",
              "      quickchartButtonEl.style.display =\n",
              "        google.colab.kernel.accessAllowed ? 'block' : 'none';\n",
              "    })();\n",
              "  </script>\n",
              "</div>\n",
              "    </div>\n",
              "  </div>\n"
            ]
          },
          "metadata": {},
          "execution_count": 5
        }
      ],
      "source": [
        "df.replace(to_replace = 0.00, value = df.mean(axis=0), inplace=True)  # inject the mean of the column when value is 0\n",
        "df.head()"
      ]
    },
    {
      "cell_type": "markdown",
      "source": [
        "\n",
        "\n",
        "df.replace() function:\n",
        "\n",
        "    This function is used to replace specific values within a DataFrame (df) with another value.\n",
        "    The parameters used are:\n",
        "        - to_replace=0.00: This specifies the value in the DataFrame that needs to be replaced, in this case, 0.00.\n",
        "        - value=df.mean(axis=0): This sets the replacement value for the matched condition. Here, df.mean(axis=0) calculates the mean for each column along the rows (axis=0) of the DataFrame df. The mean value for each column will replace the 0.00 values.\n",
        "        - inplace=True: This parameter ensures that the modification is done directly on the original DataFrame (df) without creating a new DataFrame. If inplace is set to True, the original DataFrame is modified.\n",
        "\n"
      ],
      "metadata": {
        "id": "JFzDUwn9Y-Ga"
      },
      "id": "JFzDUwn9Y-Ga"
    },
    {
      "cell_type": "markdown",
      "id": "3bfef008",
      "metadata": {
        "id": "3bfef008"
      },
      "source": [
        "***Select two categories for binary classification***"
      ]
    },
    {
      "cell_type": "code",
      "execution_count": 6,
      "id": "57f10ca0",
      "metadata": {
        "id": "57f10ca0"
      },
      "outputs": [],
      "source": [
        "df_sel=df[(df.State==\"California\") | (df.State==\"Florida\")]"
      ]
    },
    {
      "cell_type": "code",
      "execution_count": 7,
      "id": "add6c146",
      "metadata": {
        "id": "add6c146",
        "colab": {
          "base_uri": "https://localhost:8080/",
          "height": 206
        },
        "outputId": "113d0a89-9c67-4941-b1d1-bdfa0d84cbd4"
      },
      "outputs": [
        {
          "output_type": "execute_result",
          "data": {
            "text/plain": [
              "   R&D Spend  Administration  Marketing Spend       State     Profit\n",
              "1  162597.70       151377.59        443898.53  California  191792.06\n",
              "2  153441.51       101145.55        407934.54     Florida  191050.39\n",
              "4  142107.34        91391.77        366168.42     Florida  166187.94\n",
              "6  134615.46       147198.87        127716.82  California  156122.51\n",
              "7  130298.13       145530.06        323876.68     Florida  155752.60"
            ],
            "text/html": [
              "\n",
              "  <div id=\"df-340b9d4c-6aeb-4de3-8f8b-ec6ce0d0df48\" class=\"colab-df-container\">\n",
              "    <div>\n",
              "<style scoped>\n",
              "    .dataframe tbody tr th:only-of-type {\n",
              "        vertical-align: middle;\n",
              "    }\n",
              "\n",
              "    .dataframe tbody tr th {\n",
              "        vertical-align: top;\n",
              "    }\n",
              "\n",
              "    .dataframe thead th {\n",
              "        text-align: right;\n",
              "    }\n",
              "</style>\n",
              "<table border=\"1\" class=\"dataframe\">\n",
              "  <thead>\n",
              "    <tr style=\"text-align: right;\">\n",
              "      <th></th>\n",
              "      <th>R&amp;D Spend</th>\n",
              "      <th>Administration</th>\n",
              "      <th>Marketing Spend</th>\n",
              "      <th>State</th>\n",
              "      <th>Profit</th>\n",
              "    </tr>\n",
              "  </thead>\n",
              "  <tbody>\n",
              "    <tr>\n",
              "      <th>1</th>\n",
              "      <td>162597.70</td>\n",
              "      <td>151377.59</td>\n",
              "      <td>443898.53</td>\n",
              "      <td>California</td>\n",
              "      <td>191792.06</td>\n",
              "    </tr>\n",
              "    <tr>\n",
              "      <th>2</th>\n",
              "      <td>153441.51</td>\n",
              "      <td>101145.55</td>\n",
              "      <td>407934.54</td>\n",
              "      <td>Florida</td>\n",
              "      <td>191050.39</td>\n",
              "    </tr>\n",
              "    <tr>\n",
              "      <th>4</th>\n",
              "      <td>142107.34</td>\n",
              "      <td>91391.77</td>\n",
              "      <td>366168.42</td>\n",
              "      <td>Florida</td>\n",
              "      <td>166187.94</td>\n",
              "    </tr>\n",
              "    <tr>\n",
              "      <th>6</th>\n",
              "      <td>134615.46</td>\n",
              "      <td>147198.87</td>\n",
              "      <td>127716.82</td>\n",
              "      <td>California</td>\n",
              "      <td>156122.51</td>\n",
              "    </tr>\n",
              "    <tr>\n",
              "      <th>7</th>\n",
              "      <td>130298.13</td>\n",
              "      <td>145530.06</td>\n",
              "      <td>323876.68</td>\n",
              "      <td>Florida</td>\n",
              "      <td>155752.60</td>\n",
              "    </tr>\n",
              "  </tbody>\n",
              "</table>\n",
              "</div>\n",
              "    <div class=\"colab-df-buttons\">\n",
              "\n",
              "  <div class=\"colab-df-container\">\n",
              "    <button class=\"colab-df-convert\" onclick=\"convertToInteractive('df-340b9d4c-6aeb-4de3-8f8b-ec6ce0d0df48')\"\n",
              "            title=\"Convert this dataframe to an interactive table.\"\n",
              "            style=\"display:none;\">\n",
              "\n",
              "  <svg xmlns=\"http://www.w3.org/2000/svg\" height=\"24px\" viewBox=\"0 -960 960 960\">\n",
              "    <path d=\"M120-120v-720h720v720H120Zm60-500h600v-160H180v160Zm220 220h160v-160H400v160Zm0 220h160v-160H400v160ZM180-400h160v-160H180v160Zm440 0h160v-160H620v160ZM180-180h160v-160H180v160Zm440 0h160v-160H620v160Z\"/>\n",
              "  </svg>\n",
              "    </button>\n",
              "\n",
              "  <style>\n",
              "    .colab-df-container {\n",
              "      display:flex;\n",
              "      gap: 12px;\n",
              "    }\n",
              "\n",
              "    .colab-df-convert {\n",
              "      background-color: #E8F0FE;\n",
              "      border: none;\n",
              "      border-radius: 50%;\n",
              "      cursor: pointer;\n",
              "      display: none;\n",
              "      fill: #1967D2;\n",
              "      height: 32px;\n",
              "      padding: 0 0 0 0;\n",
              "      width: 32px;\n",
              "    }\n",
              "\n",
              "    .colab-df-convert:hover {\n",
              "      background-color: #E2EBFA;\n",
              "      box-shadow: 0px 1px 2px rgba(60, 64, 67, 0.3), 0px 1px 3px 1px rgba(60, 64, 67, 0.15);\n",
              "      fill: #174EA6;\n",
              "    }\n",
              "\n",
              "    .colab-df-buttons div {\n",
              "      margin-bottom: 4px;\n",
              "    }\n",
              "\n",
              "    [theme=dark] .colab-df-convert {\n",
              "      background-color: #3B4455;\n",
              "      fill: #D2E3FC;\n",
              "    }\n",
              "\n",
              "    [theme=dark] .colab-df-convert:hover {\n",
              "      background-color: #434B5C;\n",
              "      box-shadow: 0px 1px 3px 1px rgba(0, 0, 0, 0.15);\n",
              "      filter: drop-shadow(0px 1px 2px rgba(0, 0, 0, 0.3));\n",
              "      fill: #FFFFFF;\n",
              "    }\n",
              "  </style>\n",
              "\n",
              "    <script>\n",
              "      const buttonEl =\n",
              "        document.querySelector('#df-340b9d4c-6aeb-4de3-8f8b-ec6ce0d0df48 button.colab-df-convert');\n",
              "      buttonEl.style.display =\n",
              "        google.colab.kernel.accessAllowed ? 'block' : 'none';\n",
              "\n",
              "      async function convertToInteractive(key) {\n",
              "        const element = document.querySelector('#df-340b9d4c-6aeb-4de3-8f8b-ec6ce0d0df48');\n",
              "        const dataTable =\n",
              "          await google.colab.kernel.invokeFunction('convertToInteractive',\n",
              "                                                    [key], {});\n",
              "        if (!dataTable) return;\n",
              "\n",
              "        const docLinkHtml = 'Like what you see? Visit the ' +\n",
              "          '<a target=\"_blank\" href=https://colab.research.google.com/notebooks/data_table.ipynb>data table notebook</a>'\n",
              "          + ' to learn more about interactive tables.';\n",
              "        element.innerHTML = '';\n",
              "        dataTable['output_type'] = 'display_data';\n",
              "        await google.colab.output.renderOutput(dataTable, element);\n",
              "        const docLink = document.createElement('div');\n",
              "        docLink.innerHTML = docLinkHtml;\n",
              "        element.appendChild(docLink);\n",
              "      }\n",
              "    </script>\n",
              "  </div>\n",
              "\n",
              "\n",
              "<div id=\"df-b44d81cf-b399-40e3-9d8b-fba61c27f892\">\n",
              "  <button class=\"colab-df-quickchart\" onclick=\"quickchart('df-b44d81cf-b399-40e3-9d8b-fba61c27f892')\"\n",
              "            title=\"Suggest charts\"\n",
              "            style=\"display:none;\">\n",
              "\n",
              "<svg xmlns=\"http://www.w3.org/2000/svg\" height=\"24px\"viewBox=\"0 0 24 24\"\n",
              "     width=\"24px\">\n",
              "    <g>\n",
              "        <path d=\"M19 3H5c-1.1 0-2 .9-2 2v14c0 1.1.9 2 2 2h14c1.1 0 2-.9 2-2V5c0-1.1-.9-2-2-2zM9 17H7v-7h2v7zm4 0h-2V7h2v10zm4 0h-2v-4h2v4z\"/>\n",
              "    </g>\n",
              "</svg>\n",
              "  </button>\n",
              "\n",
              "<style>\n",
              "  .colab-df-quickchart {\n",
              "      --bg-color: #E8F0FE;\n",
              "      --fill-color: #1967D2;\n",
              "      --hover-bg-color: #E2EBFA;\n",
              "      --hover-fill-color: #174EA6;\n",
              "      --disabled-fill-color: #AAA;\n",
              "      --disabled-bg-color: #DDD;\n",
              "  }\n",
              "\n",
              "  [theme=dark] .colab-df-quickchart {\n",
              "      --bg-color: #3B4455;\n",
              "      --fill-color: #D2E3FC;\n",
              "      --hover-bg-color: #434B5C;\n",
              "      --hover-fill-color: #FFFFFF;\n",
              "      --disabled-bg-color: #3B4455;\n",
              "      --disabled-fill-color: #666;\n",
              "  }\n",
              "\n",
              "  .colab-df-quickchart {\n",
              "    background-color: var(--bg-color);\n",
              "    border: none;\n",
              "    border-radius: 50%;\n",
              "    cursor: pointer;\n",
              "    display: none;\n",
              "    fill: var(--fill-color);\n",
              "    height: 32px;\n",
              "    padding: 0;\n",
              "    width: 32px;\n",
              "  }\n",
              "\n",
              "  .colab-df-quickchart:hover {\n",
              "    background-color: var(--hover-bg-color);\n",
              "    box-shadow: 0 1px 2px rgba(60, 64, 67, 0.3), 0 1px 3px 1px rgba(60, 64, 67, 0.15);\n",
              "    fill: var(--button-hover-fill-color);\n",
              "  }\n",
              "\n",
              "  .colab-df-quickchart-complete:disabled,\n",
              "  .colab-df-quickchart-complete:disabled:hover {\n",
              "    background-color: var(--disabled-bg-color);\n",
              "    fill: var(--disabled-fill-color);\n",
              "    box-shadow: none;\n",
              "  }\n",
              "\n",
              "  .colab-df-spinner {\n",
              "    border: 2px solid var(--fill-color);\n",
              "    border-color: transparent;\n",
              "    border-bottom-color: var(--fill-color);\n",
              "    animation:\n",
              "      spin 1s steps(1) infinite;\n",
              "  }\n",
              "\n",
              "  @keyframes spin {\n",
              "    0% {\n",
              "      border-color: transparent;\n",
              "      border-bottom-color: var(--fill-color);\n",
              "      border-left-color: var(--fill-color);\n",
              "    }\n",
              "    20% {\n",
              "      border-color: transparent;\n",
              "      border-left-color: var(--fill-color);\n",
              "      border-top-color: var(--fill-color);\n",
              "    }\n",
              "    30% {\n",
              "      border-color: transparent;\n",
              "      border-left-color: var(--fill-color);\n",
              "      border-top-color: var(--fill-color);\n",
              "      border-right-color: var(--fill-color);\n",
              "    }\n",
              "    40% {\n",
              "      border-color: transparent;\n",
              "      border-right-color: var(--fill-color);\n",
              "      border-top-color: var(--fill-color);\n",
              "    }\n",
              "    60% {\n",
              "      border-color: transparent;\n",
              "      border-right-color: var(--fill-color);\n",
              "    }\n",
              "    80% {\n",
              "      border-color: transparent;\n",
              "      border-right-color: var(--fill-color);\n",
              "      border-bottom-color: var(--fill-color);\n",
              "    }\n",
              "    90% {\n",
              "      border-color: transparent;\n",
              "      border-bottom-color: var(--fill-color);\n",
              "    }\n",
              "  }\n",
              "</style>\n",
              "\n",
              "  <script>\n",
              "    async function quickchart(key) {\n",
              "      const quickchartButtonEl =\n",
              "        document.querySelector('#' + key + ' button');\n",
              "      quickchartButtonEl.disabled = true;  // To prevent multiple clicks.\n",
              "      quickchartButtonEl.classList.add('colab-df-spinner');\n",
              "      try {\n",
              "        const charts = await google.colab.kernel.invokeFunction(\n",
              "            'suggestCharts', [key], {});\n",
              "      } catch (error) {\n",
              "        console.error('Error during call to suggestCharts:', error);\n",
              "      }\n",
              "      quickchartButtonEl.classList.remove('colab-df-spinner');\n",
              "      quickchartButtonEl.classList.add('colab-df-quickchart-complete');\n",
              "    }\n",
              "    (() => {\n",
              "      let quickchartButtonEl =\n",
              "        document.querySelector('#df-b44d81cf-b399-40e3-9d8b-fba61c27f892 button');\n",
              "      quickchartButtonEl.style.display =\n",
              "        google.colab.kernel.accessAllowed ? 'block' : 'none';\n",
              "    })();\n",
              "  </script>\n",
              "</div>\n",
              "    </div>\n",
              "  </div>\n"
            ]
          },
          "metadata": {},
          "execution_count": 7
        }
      ],
      "source": [
        "df_sel.head() # column title and first rows of the dataset"
      ]
    },
    {
      "cell_type": "code",
      "execution_count": 8,
      "id": "32984bcc",
      "metadata": {
        "id": "32984bcc",
        "colab": {
          "base_uri": "https://localhost:8080/"
        },
        "outputId": "1e524054-f57f-4883-b200-fa153878534e"
      },
      "outputs": [
        {
          "output_type": "execute_result",
          "data": {
            "text/plain": [
              "R&D Spend          float64\n",
              "Administration     float64\n",
              "Marketing Spend    float64\n",
              "State               object\n",
              "Profit             float64\n",
              "dtype: object"
            ]
          },
          "metadata": {},
          "execution_count": 8
        }
      ],
      "source": [
        "df_sel.dtypes # type of each column"
      ]
    },
    {
      "cell_type": "markdown",
      "id": "0784375e",
      "metadata": {
        "id": "0784375e"
      },
      "source": [
        "***Encode categorical data***\n",
        "\n",
        "One-hot encoding of categorical feature _State_\n",
        "One-Hot Encoding is a technique used in machine learning to handle categorical variables by transforming them into a format that can be easily utilized by algorithms.\n",
        "\n",
        "Imagine having a categorical variable, such as colors: red, green, and blue. With One-Hot Encoding, each color becomes a new binary column. If an observation has a specific color, the column corresponding to that color will be set to 1, while the other columns will be set to 0.\n",
        "\n",
        "For example:\n",
        "\n",
        "    If you have categories \"red\", \"green\", \"blue\", and you want to encode them using One-Hot Encoding:\n",
        "        \"red\" becomes [1, 0, 0]\n",
        "        \"green\" becomes [0, 1, 0]\n",
        "        \"blue\" becomes [0, 0, 1]\n",
        "\n",
        "This helps machine learning algorithms to understand and work with these categorical variables more effectively, as it doesn't impose an order or hierarchy among the categories but rather represents them in a form that the algorithm can interpret more efficiently."
      ]
    },
    {
      "cell_type": "code",
      "execution_count": 9,
      "id": "0a6b154f",
      "metadata": {
        "id": "0a6b154f"
      },
      "outputs": [],
      "source": [
        "df_one = pd.get_dummies(df_sel[\"State\"])"
      ]
    },
    {
      "cell_type": "code",
      "execution_count": 10,
      "id": "3f282229",
      "metadata": {
        "scrolled": true,
        "id": "3f282229",
        "colab": {
          "base_uri": "https://localhost:8080/",
          "height": 206
        },
        "outputId": "16e990be-0a73-4dae-b66e-a058043d4f68"
      },
      "outputs": [
        {
          "output_type": "execute_result",
          "data": {
            "text/plain": [
              "   California  Florida\n",
              "1           1        0\n",
              "2           0        1\n",
              "4           0        1\n",
              "6           1        0\n",
              "7           0        1"
            ],
            "text/html": [
              "\n",
              "  <div id=\"df-d46cf8c9-419e-4a35-9e30-89f280880e70\" class=\"colab-df-container\">\n",
              "    <div>\n",
              "<style scoped>\n",
              "    .dataframe tbody tr th:only-of-type {\n",
              "        vertical-align: middle;\n",
              "    }\n",
              "\n",
              "    .dataframe tbody tr th {\n",
              "        vertical-align: top;\n",
              "    }\n",
              "\n",
              "    .dataframe thead th {\n",
              "        text-align: right;\n",
              "    }\n",
              "</style>\n",
              "<table border=\"1\" class=\"dataframe\">\n",
              "  <thead>\n",
              "    <tr style=\"text-align: right;\">\n",
              "      <th></th>\n",
              "      <th>California</th>\n",
              "      <th>Florida</th>\n",
              "    </tr>\n",
              "  </thead>\n",
              "  <tbody>\n",
              "    <tr>\n",
              "      <th>1</th>\n",
              "      <td>1</td>\n",
              "      <td>0</td>\n",
              "    </tr>\n",
              "    <tr>\n",
              "      <th>2</th>\n",
              "      <td>0</td>\n",
              "      <td>1</td>\n",
              "    </tr>\n",
              "    <tr>\n",
              "      <th>4</th>\n",
              "      <td>0</td>\n",
              "      <td>1</td>\n",
              "    </tr>\n",
              "    <tr>\n",
              "      <th>6</th>\n",
              "      <td>1</td>\n",
              "      <td>0</td>\n",
              "    </tr>\n",
              "    <tr>\n",
              "      <th>7</th>\n",
              "      <td>0</td>\n",
              "      <td>1</td>\n",
              "    </tr>\n",
              "  </tbody>\n",
              "</table>\n",
              "</div>\n",
              "    <div class=\"colab-df-buttons\">\n",
              "\n",
              "  <div class=\"colab-df-container\">\n",
              "    <button class=\"colab-df-convert\" onclick=\"convertToInteractive('df-d46cf8c9-419e-4a35-9e30-89f280880e70')\"\n",
              "            title=\"Convert this dataframe to an interactive table.\"\n",
              "            style=\"display:none;\">\n",
              "\n",
              "  <svg xmlns=\"http://www.w3.org/2000/svg\" height=\"24px\" viewBox=\"0 -960 960 960\">\n",
              "    <path d=\"M120-120v-720h720v720H120Zm60-500h600v-160H180v160Zm220 220h160v-160H400v160Zm0 220h160v-160H400v160ZM180-400h160v-160H180v160Zm440 0h160v-160H620v160ZM180-180h160v-160H180v160Zm440 0h160v-160H620v160Z\"/>\n",
              "  </svg>\n",
              "    </button>\n",
              "\n",
              "  <style>\n",
              "    .colab-df-container {\n",
              "      display:flex;\n",
              "      gap: 12px;\n",
              "    }\n",
              "\n",
              "    .colab-df-convert {\n",
              "      background-color: #E8F0FE;\n",
              "      border: none;\n",
              "      border-radius: 50%;\n",
              "      cursor: pointer;\n",
              "      display: none;\n",
              "      fill: #1967D2;\n",
              "      height: 32px;\n",
              "      padding: 0 0 0 0;\n",
              "      width: 32px;\n",
              "    }\n",
              "\n",
              "    .colab-df-convert:hover {\n",
              "      background-color: #E2EBFA;\n",
              "      box-shadow: 0px 1px 2px rgba(60, 64, 67, 0.3), 0px 1px 3px 1px rgba(60, 64, 67, 0.15);\n",
              "      fill: #174EA6;\n",
              "    }\n",
              "\n",
              "    .colab-df-buttons div {\n",
              "      margin-bottom: 4px;\n",
              "    }\n",
              "\n",
              "    [theme=dark] .colab-df-convert {\n",
              "      background-color: #3B4455;\n",
              "      fill: #D2E3FC;\n",
              "    }\n",
              "\n",
              "    [theme=dark] .colab-df-convert:hover {\n",
              "      background-color: #434B5C;\n",
              "      box-shadow: 0px 1px 3px 1px rgba(0, 0, 0, 0.15);\n",
              "      filter: drop-shadow(0px 1px 2px rgba(0, 0, 0, 0.3));\n",
              "      fill: #FFFFFF;\n",
              "    }\n",
              "  </style>\n",
              "\n",
              "    <script>\n",
              "      const buttonEl =\n",
              "        document.querySelector('#df-d46cf8c9-419e-4a35-9e30-89f280880e70 button.colab-df-convert');\n",
              "      buttonEl.style.display =\n",
              "        google.colab.kernel.accessAllowed ? 'block' : 'none';\n",
              "\n",
              "      async function convertToInteractive(key) {\n",
              "        const element = document.querySelector('#df-d46cf8c9-419e-4a35-9e30-89f280880e70');\n",
              "        const dataTable =\n",
              "          await google.colab.kernel.invokeFunction('convertToInteractive',\n",
              "                                                    [key], {});\n",
              "        if (!dataTable) return;\n",
              "\n",
              "        const docLinkHtml = 'Like what you see? Visit the ' +\n",
              "          '<a target=\"_blank\" href=https://colab.research.google.com/notebooks/data_table.ipynb>data table notebook</a>'\n",
              "          + ' to learn more about interactive tables.';\n",
              "        element.innerHTML = '';\n",
              "        dataTable['output_type'] = 'display_data';\n",
              "        await google.colab.output.renderOutput(dataTable, element);\n",
              "        const docLink = document.createElement('div');\n",
              "        docLink.innerHTML = docLinkHtml;\n",
              "        element.appendChild(docLink);\n",
              "      }\n",
              "    </script>\n",
              "  </div>\n",
              "\n",
              "\n",
              "<div id=\"df-f4102082-835e-48f6-8859-05ebc8b60934\">\n",
              "  <button class=\"colab-df-quickchart\" onclick=\"quickchart('df-f4102082-835e-48f6-8859-05ebc8b60934')\"\n",
              "            title=\"Suggest charts\"\n",
              "            style=\"display:none;\">\n",
              "\n",
              "<svg xmlns=\"http://www.w3.org/2000/svg\" height=\"24px\"viewBox=\"0 0 24 24\"\n",
              "     width=\"24px\">\n",
              "    <g>\n",
              "        <path d=\"M19 3H5c-1.1 0-2 .9-2 2v14c0 1.1.9 2 2 2h14c1.1 0 2-.9 2-2V5c0-1.1-.9-2-2-2zM9 17H7v-7h2v7zm4 0h-2V7h2v10zm4 0h-2v-4h2v4z\"/>\n",
              "    </g>\n",
              "</svg>\n",
              "  </button>\n",
              "\n",
              "<style>\n",
              "  .colab-df-quickchart {\n",
              "      --bg-color: #E8F0FE;\n",
              "      --fill-color: #1967D2;\n",
              "      --hover-bg-color: #E2EBFA;\n",
              "      --hover-fill-color: #174EA6;\n",
              "      --disabled-fill-color: #AAA;\n",
              "      --disabled-bg-color: #DDD;\n",
              "  }\n",
              "\n",
              "  [theme=dark] .colab-df-quickchart {\n",
              "      --bg-color: #3B4455;\n",
              "      --fill-color: #D2E3FC;\n",
              "      --hover-bg-color: #434B5C;\n",
              "      --hover-fill-color: #FFFFFF;\n",
              "      --disabled-bg-color: #3B4455;\n",
              "      --disabled-fill-color: #666;\n",
              "  }\n",
              "\n",
              "  .colab-df-quickchart {\n",
              "    background-color: var(--bg-color);\n",
              "    border: none;\n",
              "    border-radius: 50%;\n",
              "    cursor: pointer;\n",
              "    display: none;\n",
              "    fill: var(--fill-color);\n",
              "    height: 32px;\n",
              "    padding: 0;\n",
              "    width: 32px;\n",
              "  }\n",
              "\n",
              "  .colab-df-quickchart:hover {\n",
              "    background-color: var(--hover-bg-color);\n",
              "    box-shadow: 0 1px 2px rgba(60, 64, 67, 0.3), 0 1px 3px 1px rgba(60, 64, 67, 0.15);\n",
              "    fill: var(--button-hover-fill-color);\n",
              "  }\n",
              "\n",
              "  .colab-df-quickchart-complete:disabled,\n",
              "  .colab-df-quickchart-complete:disabled:hover {\n",
              "    background-color: var(--disabled-bg-color);\n",
              "    fill: var(--disabled-fill-color);\n",
              "    box-shadow: none;\n",
              "  }\n",
              "\n",
              "  .colab-df-spinner {\n",
              "    border: 2px solid var(--fill-color);\n",
              "    border-color: transparent;\n",
              "    border-bottom-color: var(--fill-color);\n",
              "    animation:\n",
              "      spin 1s steps(1) infinite;\n",
              "  }\n",
              "\n",
              "  @keyframes spin {\n",
              "    0% {\n",
              "      border-color: transparent;\n",
              "      border-bottom-color: var(--fill-color);\n",
              "      border-left-color: var(--fill-color);\n",
              "    }\n",
              "    20% {\n",
              "      border-color: transparent;\n",
              "      border-left-color: var(--fill-color);\n",
              "      border-top-color: var(--fill-color);\n",
              "    }\n",
              "    30% {\n",
              "      border-color: transparent;\n",
              "      border-left-color: var(--fill-color);\n",
              "      border-top-color: var(--fill-color);\n",
              "      border-right-color: var(--fill-color);\n",
              "    }\n",
              "    40% {\n",
              "      border-color: transparent;\n",
              "      border-right-color: var(--fill-color);\n",
              "      border-top-color: var(--fill-color);\n",
              "    }\n",
              "    60% {\n",
              "      border-color: transparent;\n",
              "      border-right-color: var(--fill-color);\n",
              "    }\n",
              "    80% {\n",
              "      border-color: transparent;\n",
              "      border-right-color: var(--fill-color);\n",
              "      border-bottom-color: var(--fill-color);\n",
              "    }\n",
              "    90% {\n",
              "      border-color: transparent;\n",
              "      border-bottom-color: var(--fill-color);\n",
              "    }\n",
              "  }\n",
              "</style>\n",
              "\n",
              "  <script>\n",
              "    async function quickchart(key) {\n",
              "      const quickchartButtonEl =\n",
              "        document.querySelector('#' + key + ' button');\n",
              "      quickchartButtonEl.disabled = true;  // To prevent multiple clicks.\n",
              "      quickchartButtonEl.classList.add('colab-df-spinner');\n",
              "      try {\n",
              "        const charts = await google.colab.kernel.invokeFunction(\n",
              "            'suggestCharts', [key], {});\n",
              "      } catch (error) {\n",
              "        console.error('Error during call to suggestCharts:', error);\n",
              "      }\n",
              "      quickchartButtonEl.classList.remove('colab-df-spinner');\n",
              "      quickchartButtonEl.classList.add('colab-df-quickchart-complete');\n",
              "    }\n",
              "    (() => {\n",
              "      let quickchartButtonEl =\n",
              "        document.querySelector('#df-f4102082-835e-48f6-8859-05ebc8b60934 button');\n",
              "      quickchartButtonEl.style.display =\n",
              "        google.colab.kernel.accessAllowed ? 'block' : 'none';\n",
              "    })();\n",
              "  </script>\n",
              "</div>\n",
              "    </div>\n",
              "  </div>\n"
            ]
          },
          "metadata": {},
          "execution_count": 10
        }
      ],
      "source": [
        "df_one.head()"
      ]
    },
    {
      "cell_type": "code",
      "source": [
        "# construct the final dataset that you will use for learning and prediction\n",
        "df_fin = pd.concat((df_one, df_sel), axis=1)\n",
        "df_fin = df_fin.drop([\"Florida\"], axis=1)\n",
        "df_fin = df_fin.drop([\"State\"], axis=1)\n",
        "# California is class 1, Florida is class 0\n",
        "df_fin = df_fin.rename(columns={\"California\": \"State\"})\n",
        "df_fin.head()"
      ],
      "metadata": {
        "colab": {
          "base_uri": "https://localhost:8080/",
          "height": 206
        },
        "id": "MXdrBgtUZp1b",
        "outputId": "17a4e06e-b807-41e8-de8c-c6a43dd24244"
      },
      "id": "MXdrBgtUZp1b",
      "execution_count": 11,
      "outputs": [
        {
          "output_type": "execute_result",
          "data": {
            "text/plain": [
              "   State  R&D Spend  Administration  Marketing Spend     Profit\n",
              "1      1  162597.70       151377.59        443898.53  191792.06\n",
              "2      0  153441.51       101145.55        407934.54  191050.39\n",
              "4      0  142107.34        91391.77        366168.42  166187.94\n",
              "6      1  134615.46       147198.87        127716.82  156122.51\n",
              "7      0  130298.13       145530.06        323876.68  155752.60"
            ],
            "text/html": [
              "\n",
              "  <div id=\"df-d2e046a5-2e15-490f-b72b-ec2561d5f5e2\" class=\"colab-df-container\">\n",
              "    <div>\n",
              "<style scoped>\n",
              "    .dataframe tbody tr th:only-of-type {\n",
              "        vertical-align: middle;\n",
              "    }\n",
              "\n",
              "    .dataframe tbody tr th {\n",
              "        vertical-align: top;\n",
              "    }\n",
              "\n",
              "    .dataframe thead th {\n",
              "        text-align: right;\n",
              "    }\n",
              "</style>\n",
              "<table border=\"1\" class=\"dataframe\">\n",
              "  <thead>\n",
              "    <tr style=\"text-align: right;\">\n",
              "      <th></th>\n",
              "      <th>State</th>\n",
              "      <th>R&amp;D Spend</th>\n",
              "      <th>Administration</th>\n",
              "      <th>Marketing Spend</th>\n",
              "      <th>Profit</th>\n",
              "    </tr>\n",
              "  </thead>\n",
              "  <tbody>\n",
              "    <tr>\n",
              "      <th>1</th>\n",
              "      <td>1</td>\n",
              "      <td>162597.70</td>\n",
              "      <td>151377.59</td>\n",
              "      <td>443898.53</td>\n",
              "      <td>191792.06</td>\n",
              "    </tr>\n",
              "    <tr>\n",
              "      <th>2</th>\n",
              "      <td>0</td>\n",
              "      <td>153441.51</td>\n",
              "      <td>101145.55</td>\n",
              "      <td>407934.54</td>\n",
              "      <td>191050.39</td>\n",
              "    </tr>\n",
              "    <tr>\n",
              "      <th>4</th>\n",
              "      <td>0</td>\n",
              "      <td>142107.34</td>\n",
              "      <td>91391.77</td>\n",
              "      <td>366168.42</td>\n",
              "      <td>166187.94</td>\n",
              "    </tr>\n",
              "    <tr>\n",
              "      <th>6</th>\n",
              "      <td>1</td>\n",
              "      <td>134615.46</td>\n",
              "      <td>147198.87</td>\n",
              "      <td>127716.82</td>\n",
              "      <td>156122.51</td>\n",
              "    </tr>\n",
              "    <tr>\n",
              "      <th>7</th>\n",
              "      <td>0</td>\n",
              "      <td>130298.13</td>\n",
              "      <td>145530.06</td>\n",
              "      <td>323876.68</td>\n",
              "      <td>155752.60</td>\n",
              "    </tr>\n",
              "  </tbody>\n",
              "</table>\n",
              "</div>\n",
              "    <div class=\"colab-df-buttons\">\n",
              "\n",
              "  <div class=\"colab-df-container\">\n",
              "    <button class=\"colab-df-convert\" onclick=\"convertToInteractive('df-d2e046a5-2e15-490f-b72b-ec2561d5f5e2')\"\n",
              "            title=\"Convert this dataframe to an interactive table.\"\n",
              "            style=\"display:none;\">\n",
              "\n",
              "  <svg xmlns=\"http://www.w3.org/2000/svg\" height=\"24px\" viewBox=\"0 -960 960 960\">\n",
              "    <path d=\"M120-120v-720h720v720H120Zm60-500h600v-160H180v160Zm220 220h160v-160H400v160Zm0 220h160v-160H400v160ZM180-400h160v-160H180v160Zm440 0h160v-160H620v160ZM180-180h160v-160H180v160Zm440 0h160v-160H620v160Z\"/>\n",
              "  </svg>\n",
              "    </button>\n",
              "\n",
              "  <style>\n",
              "    .colab-df-container {\n",
              "      display:flex;\n",
              "      gap: 12px;\n",
              "    }\n",
              "\n",
              "    .colab-df-convert {\n",
              "      background-color: #E8F0FE;\n",
              "      border: none;\n",
              "      border-radius: 50%;\n",
              "      cursor: pointer;\n",
              "      display: none;\n",
              "      fill: #1967D2;\n",
              "      height: 32px;\n",
              "      padding: 0 0 0 0;\n",
              "      width: 32px;\n",
              "    }\n",
              "\n",
              "    .colab-df-convert:hover {\n",
              "      background-color: #E2EBFA;\n",
              "      box-shadow: 0px 1px 2px rgba(60, 64, 67, 0.3), 0px 1px 3px 1px rgba(60, 64, 67, 0.15);\n",
              "      fill: #174EA6;\n",
              "    }\n",
              "\n",
              "    .colab-df-buttons div {\n",
              "      margin-bottom: 4px;\n",
              "    }\n",
              "\n",
              "    [theme=dark] .colab-df-convert {\n",
              "      background-color: #3B4455;\n",
              "      fill: #D2E3FC;\n",
              "    }\n",
              "\n",
              "    [theme=dark] .colab-df-convert:hover {\n",
              "      background-color: #434B5C;\n",
              "      box-shadow: 0px 1px 3px 1px rgba(0, 0, 0, 0.15);\n",
              "      filter: drop-shadow(0px 1px 2px rgba(0, 0, 0, 0.3));\n",
              "      fill: #FFFFFF;\n",
              "    }\n",
              "  </style>\n",
              "\n",
              "    <script>\n",
              "      const buttonEl =\n",
              "        document.querySelector('#df-d2e046a5-2e15-490f-b72b-ec2561d5f5e2 button.colab-df-convert');\n",
              "      buttonEl.style.display =\n",
              "        google.colab.kernel.accessAllowed ? 'block' : 'none';\n",
              "\n",
              "      async function convertToInteractive(key) {\n",
              "        const element = document.querySelector('#df-d2e046a5-2e15-490f-b72b-ec2561d5f5e2');\n",
              "        const dataTable =\n",
              "          await google.colab.kernel.invokeFunction('convertToInteractive',\n",
              "                                                    [key], {});\n",
              "        if (!dataTable) return;\n",
              "\n",
              "        const docLinkHtml = 'Like what you see? Visit the ' +\n",
              "          '<a target=\"_blank\" href=https://colab.research.google.com/notebooks/data_table.ipynb>data table notebook</a>'\n",
              "          + ' to learn more about interactive tables.';\n",
              "        element.innerHTML = '';\n",
              "        dataTable['output_type'] = 'display_data';\n",
              "        await google.colab.output.renderOutput(dataTable, element);\n",
              "        const docLink = document.createElement('div');\n",
              "        docLink.innerHTML = docLinkHtml;\n",
              "        element.appendChild(docLink);\n",
              "      }\n",
              "    </script>\n",
              "  </div>\n",
              "\n",
              "\n",
              "<div id=\"df-8b8c897b-934f-4f0a-92b2-820b82901705\">\n",
              "  <button class=\"colab-df-quickchart\" onclick=\"quickchart('df-8b8c897b-934f-4f0a-92b2-820b82901705')\"\n",
              "            title=\"Suggest charts\"\n",
              "            style=\"display:none;\">\n",
              "\n",
              "<svg xmlns=\"http://www.w3.org/2000/svg\" height=\"24px\"viewBox=\"0 0 24 24\"\n",
              "     width=\"24px\">\n",
              "    <g>\n",
              "        <path d=\"M19 3H5c-1.1 0-2 .9-2 2v14c0 1.1.9 2 2 2h14c1.1 0 2-.9 2-2V5c0-1.1-.9-2-2-2zM9 17H7v-7h2v7zm4 0h-2V7h2v10zm4 0h-2v-4h2v4z\"/>\n",
              "    </g>\n",
              "</svg>\n",
              "  </button>\n",
              "\n",
              "<style>\n",
              "  .colab-df-quickchart {\n",
              "      --bg-color: #E8F0FE;\n",
              "      --fill-color: #1967D2;\n",
              "      --hover-bg-color: #E2EBFA;\n",
              "      --hover-fill-color: #174EA6;\n",
              "      --disabled-fill-color: #AAA;\n",
              "      --disabled-bg-color: #DDD;\n",
              "  }\n",
              "\n",
              "  [theme=dark] .colab-df-quickchart {\n",
              "      --bg-color: #3B4455;\n",
              "      --fill-color: #D2E3FC;\n",
              "      --hover-bg-color: #434B5C;\n",
              "      --hover-fill-color: #FFFFFF;\n",
              "      --disabled-bg-color: #3B4455;\n",
              "      --disabled-fill-color: #666;\n",
              "  }\n",
              "\n",
              "  .colab-df-quickchart {\n",
              "    background-color: var(--bg-color);\n",
              "    border: none;\n",
              "    border-radius: 50%;\n",
              "    cursor: pointer;\n",
              "    display: none;\n",
              "    fill: var(--fill-color);\n",
              "    height: 32px;\n",
              "    padding: 0;\n",
              "    width: 32px;\n",
              "  }\n",
              "\n",
              "  .colab-df-quickchart:hover {\n",
              "    background-color: var(--hover-bg-color);\n",
              "    box-shadow: 0 1px 2px rgba(60, 64, 67, 0.3), 0 1px 3px 1px rgba(60, 64, 67, 0.15);\n",
              "    fill: var(--button-hover-fill-color);\n",
              "  }\n",
              "\n",
              "  .colab-df-quickchart-complete:disabled,\n",
              "  .colab-df-quickchart-complete:disabled:hover {\n",
              "    background-color: var(--disabled-bg-color);\n",
              "    fill: var(--disabled-fill-color);\n",
              "    box-shadow: none;\n",
              "  }\n",
              "\n",
              "  .colab-df-spinner {\n",
              "    border: 2px solid var(--fill-color);\n",
              "    border-color: transparent;\n",
              "    border-bottom-color: var(--fill-color);\n",
              "    animation:\n",
              "      spin 1s steps(1) infinite;\n",
              "  }\n",
              "\n",
              "  @keyframes spin {\n",
              "    0% {\n",
              "      border-color: transparent;\n",
              "      border-bottom-color: var(--fill-color);\n",
              "      border-left-color: var(--fill-color);\n",
              "    }\n",
              "    20% {\n",
              "      border-color: transparent;\n",
              "      border-left-color: var(--fill-color);\n",
              "      border-top-color: var(--fill-color);\n",
              "    }\n",
              "    30% {\n",
              "      border-color: transparent;\n",
              "      border-left-color: var(--fill-color);\n",
              "      border-top-color: var(--fill-color);\n",
              "      border-right-color: var(--fill-color);\n",
              "    }\n",
              "    40% {\n",
              "      border-color: transparent;\n",
              "      border-right-color: var(--fill-color);\n",
              "      border-top-color: var(--fill-color);\n",
              "    }\n",
              "    60% {\n",
              "      border-color: transparent;\n",
              "      border-right-color: var(--fill-color);\n",
              "    }\n",
              "    80% {\n",
              "      border-color: transparent;\n",
              "      border-right-color: var(--fill-color);\n",
              "      border-bottom-color: var(--fill-color);\n",
              "    }\n",
              "    90% {\n",
              "      border-color: transparent;\n",
              "      border-bottom-color: var(--fill-color);\n",
              "    }\n",
              "  }\n",
              "</style>\n",
              "\n",
              "  <script>\n",
              "    async function quickchart(key) {\n",
              "      const quickchartButtonEl =\n",
              "        document.querySelector('#' + key + ' button');\n",
              "      quickchartButtonEl.disabled = true;  // To prevent multiple clicks.\n",
              "      quickchartButtonEl.classList.add('colab-df-spinner');\n",
              "      try {\n",
              "        const charts = await google.colab.kernel.invokeFunction(\n",
              "            'suggestCharts', [key], {});\n",
              "      } catch (error) {\n",
              "        console.error('Error during call to suggestCharts:', error);\n",
              "      }\n",
              "      quickchartButtonEl.classList.remove('colab-df-spinner');\n",
              "      quickchartButtonEl.classList.add('colab-df-quickchart-complete');\n",
              "    }\n",
              "    (() => {\n",
              "      let quickchartButtonEl =\n",
              "        document.querySelector('#df-8b8c897b-934f-4f0a-92b2-820b82901705 button');\n",
              "      quickchartButtonEl.style.display =\n",
              "        google.colab.kernel.accessAllowed ? 'block' : 'none';\n",
              "    })();\n",
              "  </script>\n",
              "</div>\n",
              "    </div>\n",
              "  </div>\n"
            ]
          },
          "metadata": {},
          "execution_count": 11
        }
      ]
    },
    {
      "cell_type": "code",
      "execution_count": 12,
      "id": "74e5d9d7",
      "metadata": {
        "id": "74e5d9d7",
        "colab": {
          "base_uri": "https://localhost:8080/",
          "height": 206
        },
        "outputId": "b260034a-e972-40f7-e26d-9246048dc25d"
      },
      "outputs": [
        {
          "output_type": "execute_result",
          "data": {
            "text/plain": [
              "   State  R&D Spend  Administration  Marketing Spend     Profit\n",
              "1      1  162597.70       151377.59        443898.53  191792.06\n",
              "2      0  153441.51       101145.55        407934.54  191050.39\n",
              "4      0  142107.34        91391.77        366168.42  166187.94\n",
              "6      1  134615.46       147198.87        127716.82  156122.51\n",
              "7      0  130298.13       145530.06        323876.68  155752.60"
            ],
            "text/html": [
              "\n",
              "  <div id=\"df-ad580b9f-b660-40ca-b31f-182b19ae2709\" class=\"colab-df-container\">\n",
              "    <div>\n",
              "<style scoped>\n",
              "    .dataframe tbody tr th:only-of-type {\n",
              "        vertical-align: middle;\n",
              "    }\n",
              "\n",
              "    .dataframe tbody tr th {\n",
              "        vertical-align: top;\n",
              "    }\n",
              "\n",
              "    .dataframe thead th {\n",
              "        text-align: right;\n",
              "    }\n",
              "</style>\n",
              "<table border=\"1\" class=\"dataframe\">\n",
              "  <thead>\n",
              "    <tr style=\"text-align: right;\">\n",
              "      <th></th>\n",
              "      <th>State</th>\n",
              "      <th>R&amp;D Spend</th>\n",
              "      <th>Administration</th>\n",
              "      <th>Marketing Spend</th>\n",
              "      <th>Profit</th>\n",
              "    </tr>\n",
              "  </thead>\n",
              "  <tbody>\n",
              "    <tr>\n",
              "      <th>1</th>\n",
              "      <td>1</td>\n",
              "      <td>162597.70</td>\n",
              "      <td>151377.59</td>\n",
              "      <td>443898.53</td>\n",
              "      <td>191792.06</td>\n",
              "    </tr>\n",
              "    <tr>\n",
              "      <th>2</th>\n",
              "      <td>0</td>\n",
              "      <td>153441.51</td>\n",
              "      <td>101145.55</td>\n",
              "      <td>407934.54</td>\n",
              "      <td>191050.39</td>\n",
              "    </tr>\n",
              "    <tr>\n",
              "      <th>4</th>\n",
              "      <td>0</td>\n",
              "      <td>142107.34</td>\n",
              "      <td>91391.77</td>\n",
              "      <td>366168.42</td>\n",
              "      <td>166187.94</td>\n",
              "    </tr>\n",
              "    <tr>\n",
              "      <th>6</th>\n",
              "      <td>1</td>\n",
              "      <td>134615.46</td>\n",
              "      <td>147198.87</td>\n",
              "      <td>127716.82</td>\n",
              "      <td>156122.51</td>\n",
              "    </tr>\n",
              "    <tr>\n",
              "      <th>7</th>\n",
              "      <td>0</td>\n",
              "      <td>130298.13</td>\n",
              "      <td>145530.06</td>\n",
              "      <td>323876.68</td>\n",
              "      <td>155752.60</td>\n",
              "    </tr>\n",
              "  </tbody>\n",
              "</table>\n",
              "</div>\n",
              "    <div class=\"colab-df-buttons\">\n",
              "\n",
              "  <div class=\"colab-df-container\">\n",
              "    <button class=\"colab-df-convert\" onclick=\"convertToInteractive('df-ad580b9f-b660-40ca-b31f-182b19ae2709')\"\n",
              "            title=\"Convert this dataframe to an interactive table.\"\n",
              "            style=\"display:none;\">\n",
              "\n",
              "  <svg xmlns=\"http://www.w3.org/2000/svg\" height=\"24px\" viewBox=\"0 -960 960 960\">\n",
              "    <path d=\"M120-120v-720h720v720H120Zm60-500h600v-160H180v160Zm220 220h160v-160H400v160Zm0 220h160v-160H400v160ZM180-400h160v-160H180v160Zm440 0h160v-160H620v160ZM180-180h160v-160H180v160Zm440 0h160v-160H620v160Z\"/>\n",
              "  </svg>\n",
              "    </button>\n",
              "\n",
              "  <style>\n",
              "    .colab-df-container {\n",
              "      display:flex;\n",
              "      gap: 12px;\n",
              "    }\n",
              "\n",
              "    .colab-df-convert {\n",
              "      background-color: #E8F0FE;\n",
              "      border: none;\n",
              "      border-radius: 50%;\n",
              "      cursor: pointer;\n",
              "      display: none;\n",
              "      fill: #1967D2;\n",
              "      height: 32px;\n",
              "      padding: 0 0 0 0;\n",
              "      width: 32px;\n",
              "    }\n",
              "\n",
              "    .colab-df-convert:hover {\n",
              "      background-color: #E2EBFA;\n",
              "      box-shadow: 0px 1px 2px rgba(60, 64, 67, 0.3), 0px 1px 3px 1px rgba(60, 64, 67, 0.15);\n",
              "      fill: #174EA6;\n",
              "    }\n",
              "\n",
              "    .colab-df-buttons div {\n",
              "      margin-bottom: 4px;\n",
              "    }\n",
              "\n",
              "    [theme=dark] .colab-df-convert {\n",
              "      background-color: #3B4455;\n",
              "      fill: #D2E3FC;\n",
              "    }\n",
              "\n",
              "    [theme=dark] .colab-df-convert:hover {\n",
              "      background-color: #434B5C;\n",
              "      box-shadow: 0px 1px 3px 1px rgba(0, 0, 0, 0.15);\n",
              "      filter: drop-shadow(0px 1px 2px rgba(0, 0, 0, 0.3));\n",
              "      fill: #FFFFFF;\n",
              "    }\n",
              "  </style>\n",
              "\n",
              "    <script>\n",
              "      const buttonEl =\n",
              "        document.querySelector('#df-ad580b9f-b660-40ca-b31f-182b19ae2709 button.colab-df-convert');\n",
              "      buttonEl.style.display =\n",
              "        google.colab.kernel.accessAllowed ? 'block' : 'none';\n",
              "\n",
              "      async function convertToInteractive(key) {\n",
              "        const element = document.querySelector('#df-ad580b9f-b660-40ca-b31f-182b19ae2709');\n",
              "        const dataTable =\n",
              "          await google.colab.kernel.invokeFunction('convertToInteractive',\n",
              "                                                    [key], {});\n",
              "        if (!dataTable) return;\n",
              "\n",
              "        const docLinkHtml = 'Like what you see? Visit the ' +\n",
              "          '<a target=\"_blank\" href=https://colab.research.google.com/notebooks/data_table.ipynb>data table notebook</a>'\n",
              "          + ' to learn more about interactive tables.';\n",
              "        element.innerHTML = '';\n",
              "        dataTable['output_type'] = 'display_data';\n",
              "        await google.colab.output.renderOutput(dataTable, element);\n",
              "        const docLink = document.createElement('div');\n",
              "        docLink.innerHTML = docLinkHtml;\n",
              "        element.appendChild(docLink);\n",
              "      }\n",
              "    </script>\n",
              "  </div>\n",
              "\n",
              "\n",
              "<div id=\"df-6c3dea09-ae76-462d-96d5-3d54bccd06d4\">\n",
              "  <button class=\"colab-df-quickchart\" onclick=\"quickchart('df-6c3dea09-ae76-462d-96d5-3d54bccd06d4')\"\n",
              "            title=\"Suggest charts\"\n",
              "            style=\"display:none;\">\n",
              "\n",
              "<svg xmlns=\"http://www.w3.org/2000/svg\" height=\"24px\"viewBox=\"0 0 24 24\"\n",
              "     width=\"24px\">\n",
              "    <g>\n",
              "        <path d=\"M19 3H5c-1.1 0-2 .9-2 2v14c0 1.1.9 2 2 2h14c1.1 0 2-.9 2-2V5c0-1.1-.9-2-2-2zM9 17H7v-7h2v7zm4 0h-2V7h2v10zm4 0h-2v-4h2v4z\"/>\n",
              "    </g>\n",
              "</svg>\n",
              "  </button>\n",
              "\n",
              "<style>\n",
              "  .colab-df-quickchart {\n",
              "      --bg-color: #E8F0FE;\n",
              "      --fill-color: #1967D2;\n",
              "      --hover-bg-color: #E2EBFA;\n",
              "      --hover-fill-color: #174EA6;\n",
              "      --disabled-fill-color: #AAA;\n",
              "      --disabled-bg-color: #DDD;\n",
              "  }\n",
              "\n",
              "  [theme=dark] .colab-df-quickchart {\n",
              "      --bg-color: #3B4455;\n",
              "      --fill-color: #D2E3FC;\n",
              "      --hover-bg-color: #434B5C;\n",
              "      --hover-fill-color: #FFFFFF;\n",
              "      --disabled-bg-color: #3B4455;\n",
              "      --disabled-fill-color: #666;\n",
              "  }\n",
              "\n",
              "  .colab-df-quickchart {\n",
              "    background-color: var(--bg-color);\n",
              "    border: none;\n",
              "    border-radius: 50%;\n",
              "    cursor: pointer;\n",
              "    display: none;\n",
              "    fill: var(--fill-color);\n",
              "    height: 32px;\n",
              "    padding: 0;\n",
              "    width: 32px;\n",
              "  }\n",
              "\n",
              "  .colab-df-quickchart:hover {\n",
              "    background-color: var(--hover-bg-color);\n",
              "    box-shadow: 0 1px 2px rgba(60, 64, 67, 0.3), 0 1px 3px 1px rgba(60, 64, 67, 0.15);\n",
              "    fill: var(--button-hover-fill-color);\n",
              "  }\n",
              "\n",
              "  .colab-df-quickchart-complete:disabled,\n",
              "  .colab-df-quickchart-complete:disabled:hover {\n",
              "    background-color: var(--disabled-bg-color);\n",
              "    fill: var(--disabled-fill-color);\n",
              "    box-shadow: none;\n",
              "  }\n",
              "\n",
              "  .colab-df-spinner {\n",
              "    border: 2px solid var(--fill-color);\n",
              "    border-color: transparent;\n",
              "    border-bottom-color: var(--fill-color);\n",
              "    animation:\n",
              "      spin 1s steps(1) infinite;\n",
              "  }\n",
              "\n",
              "  @keyframes spin {\n",
              "    0% {\n",
              "      border-color: transparent;\n",
              "      border-bottom-color: var(--fill-color);\n",
              "      border-left-color: var(--fill-color);\n",
              "    }\n",
              "    20% {\n",
              "      border-color: transparent;\n",
              "      border-left-color: var(--fill-color);\n",
              "      border-top-color: var(--fill-color);\n",
              "    }\n",
              "    30% {\n",
              "      border-color: transparent;\n",
              "      border-left-color: var(--fill-color);\n",
              "      border-top-color: var(--fill-color);\n",
              "      border-right-color: var(--fill-color);\n",
              "    }\n",
              "    40% {\n",
              "      border-color: transparent;\n",
              "      border-right-color: var(--fill-color);\n",
              "      border-top-color: var(--fill-color);\n",
              "    }\n",
              "    60% {\n",
              "      border-color: transparent;\n",
              "      border-right-color: var(--fill-color);\n",
              "    }\n",
              "    80% {\n",
              "      border-color: transparent;\n",
              "      border-right-color: var(--fill-color);\n",
              "      border-bottom-color: var(--fill-color);\n",
              "    }\n",
              "    90% {\n",
              "      border-color: transparent;\n",
              "      border-bottom-color: var(--fill-color);\n",
              "    }\n",
              "  }\n",
              "</style>\n",
              "\n",
              "  <script>\n",
              "    async function quickchart(key) {\n",
              "      const quickchartButtonEl =\n",
              "        document.querySelector('#' + key + ' button');\n",
              "      quickchartButtonEl.disabled = true;  // To prevent multiple clicks.\n",
              "      quickchartButtonEl.classList.add('colab-df-spinner');\n",
              "      try {\n",
              "        const charts = await google.colab.kernel.invokeFunction(\n",
              "            'suggestCharts', [key], {});\n",
              "      } catch (error) {\n",
              "        console.error('Error during call to suggestCharts:', error);\n",
              "      }\n",
              "      quickchartButtonEl.classList.remove('colab-df-spinner');\n",
              "      quickchartButtonEl.classList.add('colab-df-quickchart-complete');\n",
              "    }\n",
              "    (() => {\n",
              "      let quickchartButtonEl =\n",
              "        document.querySelector('#df-6c3dea09-ae76-462d-96d5-3d54bccd06d4 button');\n",
              "      quickchartButtonEl.style.display =\n",
              "        google.colab.kernel.accessAllowed ? 'block' : 'none';\n",
              "    })();\n",
              "  </script>\n",
              "</div>\n",
              "    </div>\n",
              "  </div>\n"
            ]
          },
          "metadata": {},
          "execution_count": 12
        }
      ],
      "source": [
        "# Constructing the final dataset for learning and prediction\n",
        "\n",
        "# Concatenating two DataFrames 'df_one' and 'df_sel' along columns (axis=1)\n",
        "df_fin = pd.concat((df_one, df_sel), axis=1)\n",
        "\n",
        "# Dropping the column \"Florida\" from the dataset as it was not selected for the final model\n",
        "df_fin = df_fin.drop([\"Florida\"], axis=1)\n",
        "\n",
        "# Dropping the column \"State\" (assumed to be the original 'State' column) as it is not required in its original form\n",
        "df_fin = df_fin.drop([\"State\"], axis=1)\n",
        "\n",
        "# Renaming the column \"California\" to \"State\" as part of preparing the dataset for classification (1 for California, 0 for Florida)\n",
        "df_fin = df_fin.rename(columns={\"California\": \"State\"})\n",
        "\n",
        "# Displaying the initial rows of the modified final dataset\n",
        "df_fin.head()\n"
      ]
    },
    {
      "cell_type": "markdown",
      "id": "ffced933",
      "metadata": {
        "id": "ffced933"
      },
      "source": [
        "***Normalize***\n",
        "\n",
        "Divide by the absolute value of the maximum so that features are in \\[0, 1\\]"
      ]
    },
    {
      "cell_type": "code",
      "execution_count": 15,
      "id": "eb704286",
      "metadata": {
        "id": "eb704286"
      },
      "outputs": [],
      "source": [
        "def absolute_maximum_scale(series):\n",
        "    return series / series.abs().max()\n",
        "\n",
        "for col in df_fin.columns:\n",
        "    df_fin[col] = absolute_maximum_scale(df_fin[col])"
      ]
    },
    {
      "cell_type": "code",
      "source": [
        "def absolute_maximum_scale(series):\n",
        "    \"\"\"\n",
        "    Scale each column in the DataFrame 'df_fin' by dividing the values by the absolute maximum value of that column.\n",
        "\n",
        "    Args:\n",
        "    series: A pandas Series or DataFrame column to be scaled.\n",
        "\n",
        "    Returns:\n",
        "    A scaled version of the input series with values ranging from -1 to 1 based on the maximum absolute value in the column.\n",
        "    \"\"\"\n",
        "    return series / series.abs().max()\n"
      ],
      "metadata": {
        "id": "31XhxsGKZ0t8"
      },
      "id": "31XhxsGKZ0t8",
      "execution_count": 13,
      "outputs": []
    },
    {
      "cell_type": "code",
      "source": [
        "# Apply the 'absolute_maximum_scale' function to each column in the DataFrame 'df_fin'\n",
        "for col in df_fin.columns:\n",
        "    df_fin[col] = absolute_maximum_scale(df_fin[col])"
      ],
      "metadata": {
        "id": "1YB85OWZZ34L"
      },
      "id": "1YB85OWZZ34L",
      "execution_count": null,
      "outputs": []
    },
    {
      "cell_type": "code",
      "execution_count": 16,
      "id": "421fc34c",
      "metadata": {
        "id": "421fc34c",
        "colab": {
          "base_uri": "https://localhost:8080/",
          "height": 206
        },
        "outputId": "34197a3b-ec25-4887-e948-b55ea7928295"
      },
      "outputs": [
        {
          "output_type": "execute_result",
          "data": {
            "text/plain": [
              "   State  R&D Spend  Administration  Marketing Spend    Profit\n",
              "1    1.0   1.000000        0.828805         1.000000  1.000000\n",
              "2    0.0   0.943688        0.553781         0.918982  0.996133\n",
              "4    0.0   0.873981        0.500378         0.824892  0.866501\n",
              "6    1.0   0.827905        0.805926         0.287716  0.814020\n",
              "7    0.0   0.801353        0.796789         0.729619  0.812091"
            ],
            "text/html": [
              "\n",
              "  <div id=\"df-43af26ec-2163-4d5b-92ae-f060e981092a\" class=\"colab-df-container\">\n",
              "    <div>\n",
              "<style scoped>\n",
              "    .dataframe tbody tr th:only-of-type {\n",
              "        vertical-align: middle;\n",
              "    }\n",
              "\n",
              "    .dataframe tbody tr th {\n",
              "        vertical-align: top;\n",
              "    }\n",
              "\n",
              "    .dataframe thead th {\n",
              "        text-align: right;\n",
              "    }\n",
              "</style>\n",
              "<table border=\"1\" class=\"dataframe\">\n",
              "  <thead>\n",
              "    <tr style=\"text-align: right;\">\n",
              "      <th></th>\n",
              "      <th>State</th>\n",
              "      <th>R&amp;D Spend</th>\n",
              "      <th>Administration</th>\n",
              "      <th>Marketing Spend</th>\n",
              "      <th>Profit</th>\n",
              "    </tr>\n",
              "  </thead>\n",
              "  <tbody>\n",
              "    <tr>\n",
              "      <th>1</th>\n",
              "      <td>1.0</td>\n",
              "      <td>1.000000</td>\n",
              "      <td>0.828805</td>\n",
              "      <td>1.000000</td>\n",
              "      <td>1.000000</td>\n",
              "    </tr>\n",
              "    <tr>\n",
              "      <th>2</th>\n",
              "      <td>0.0</td>\n",
              "      <td>0.943688</td>\n",
              "      <td>0.553781</td>\n",
              "      <td>0.918982</td>\n",
              "      <td>0.996133</td>\n",
              "    </tr>\n",
              "    <tr>\n",
              "      <th>4</th>\n",
              "      <td>0.0</td>\n",
              "      <td>0.873981</td>\n",
              "      <td>0.500378</td>\n",
              "      <td>0.824892</td>\n",
              "      <td>0.866501</td>\n",
              "    </tr>\n",
              "    <tr>\n",
              "      <th>6</th>\n",
              "      <td>1.0</td>\n",
              "      <td>0.827905</td>\n",
              "      <td>0.805926</td>\n",
              "      <td>0.287716</td>\n",
              "      <td>0.814020</td>\n",
              "    </tr>\n",
              "    <tr>\n",
              "      <th>7</th>\n",
              "      <td>0.0</td>\n",
              "      <td>0.801353</td>\n",
              "      <td>0.796789</td>\n",
              "      <td>0.729619</td>\n",
              "      <td>0.812091</td>\n",
              "    </tr>\n",
              "  </tbody>\n",
              "</table>\n",
              "</div>\n",
              "    <div class=\"colab-df-buttons\">\n",
              "\n",
              "  <div class=\"colab-df-container\">\n",
              "    <button class=\"colab-df-convert\" onclick=\"convertToInteractive('df-43af26ec-2163-4d5b-92ae-f060e981092a')\"\n",
              "            title=\"Convert this dataframe to an interactive table.\"\n",
              "            style=\"display:none;\">\n",
              "\n",
              "  <svg xmlns=\"http://www.w3.org/2000/svg\" height=\"24px\" viewBox=\"0 -960 960 960\">\n",
              "    <path d=\"M120-120v-720h720v720H120Zm60-500h600v-160H180v160Zm220 220h160v-160H400v160Zm0 220h160v-160H400v160ZM180-400h160v-160H180v160Zm440 0h160v-160H620v160ZM180-180h160v-160H180v160Zm440 0h160v-160H620v160Z\"/>\n",
              "  </svg>\n",
              "    </button>\n",
              "\n",
              "  <style>\n",
              "    .colab-df-container {\n",
              "      display:flex;\n",
              "      gap: 12px;\n",
              "    }\n",
              "\n",
              "    .colab-df-convert {\n",
              "      background-color: #E8F0FE;\n",
              "      border: none;\n",
              "      border-radius: 50%;\n",
              "      cursor: pointer;\n",
              "      display: none;\n",
              "      fill: #1967D2;\n",
              "      height: 32px;\n",
              "      padding: 0 0 0 0;\n",
              "      width: 32px;\n",
              "    }\n",
              "\n",
              "    .colab-df-convert:hover {\n",
              "      background-color: #E2EBFA;\n",
              "      box-shadow: 0px 1px 2px rgba(60, 64, 67, 0.3), 0px 1px 3px 1px rgba(60, 64, 67, 0.15);\n",
              "      fill: #174EA6;\n",
              "    }\n",
              "\n",
              "    .colab-df-buttons div {\n",
              "      margin-bottom: 4px;\n",
              "    }\n",
              "\n",
              "    [theme=dark] .colab-df-convert {\n",
              "      background-color: #3B4455;\n",
              "      fill: #D2E3FC;\n",
              "    }\n",
              "\n",
              "    [theme=dark] .colab-df-convert:hover {\n",
              "      background-color: #434B5C;\n",
              "      box-shadow: 0px 1px 3px 1px rgba(0, 0, 0, 0.15);\n",
              "      filter: drop-shadow(0px 1px 2px rgba(0, 0, 0, 0.3));\n",
              "      fill: #FFFFFF;\n",
              "    }\n",
              "  </style>\n",
              "\n",
              "    <script>\n",
              "      const buttonEl =\n",
              "        document.querySelector('#df-43af26ec-2163-4d5b-92ae-f060e981092a button.colab-df-convert');\n",
              "      buttonEl.style.display =\n",
              "        google.colab.kernel.accessAllowed ? 'block' : 'none';\n",
              "\n",
              "      async function convertToInteractive(key) {\n",
              "        const element = document.querySelector('#df-43af26ec-2163-4d5b-92ae-f060e981092a');\n",
              "        const dataTable =\n",
              "          await google.colab.kernel.invokeFunction('convertToInteractive',\n",
              "                                                    [key], {});\n",
              "        if (!dataTable) return;\n",
              "\n",
              "        const docLinkHtml = 'Like what you see? Visit the ' +\n",
              "          '<a target=\"_blank\" href=https://colab.research.google.com/notebooks/data_table.ipynb>data table notebook</a>'\n",
              "          + ' to learn more about interactive tables.';\n",
              "        element.innerHTML = '';\n",
              "        dataTable['output_type'] = 'display_data';\n",
              "        await google.colab.output.renderOutput(dataTable, element);\n",
              "        const docLink = document.createElement('div');\n",
              "        docLink.innerHTML = docLinkHtml;\n",
              "        element.appendChild(docLink);\n",
              "      }\n",
              "    </script>\n",
              "  </div>\n",
              "\n",
              "\n",
              "<div id=\"df-34cc43e5-0df3-4a27-ab60-f7dabd439a85\">\n",
              "  <button class=\"colab-df-quickchart\" onclick=\"quickchart('df-34cc43e5-0df3-4a27-ab60-f7dabd439a85')\"\n",
              "            title=\"Suggest charts\"\n",
              "            style=\"display:none;\">\n",
              "\n",
              "<svg xmlns=\"http://www.w3.org/2000/svg\" height=\"24px\"viewBox=\"0 0 24 24\"\n",
              "     width=\"24px\">\n",
              "    <g>\n",
              "        <path d=\"M19 3H5c-1.1 0-2 .9-2 2v14c0 1.1.9 2 2 2h14c1.1 0 2-.9 2-2V5c0-1.1-.9-2-2-2zM9 17H7v-7h2v7zm4 0h-2V7h2v10zm4 0h-2v-4h2v4z\"/>\n",
              "    </g>\n",
              "</svg>\n",
              "  </button>\n",
              "\n",
              "<style>\n",
              "  .colab-df-quickchart {\n",
              "      --bg-color: #E8F0FE;\n",
              "      --fill-color: #1967D2;\n",
              "      --hover-bg-color: #E2EBFA;\n",
              "      --hover-fill-color: #174EA6;\n",
              "      --disabled-fill-color: #AAA;\n",
              "      --disabled-bg-color: #DDD;\n",
              "  }\n",
              "\n",
              "  [theme=dark] .colab-df-quickchart {\n",
              "      --bg-color: #3B4455;\n",
              "      --fill-color: #D2E3FC;\n",
              "      --hover-bg-color: #434B5C;\n",
              "      --hover-fill-color: #FFFFFF;\n",
              "      --disabled-bg-color: #3B4455;\n",
              "      --disabled-fill-color: #666;\n",
              "  }\n",
              "\n",
              "  .colab-df-quickchart {\n",
              "    background-color: var(--bg-color);\n",
              "    border: none;\n",
              "    border-radius: 50%;\n",
              "    cursor: pointer;\n",
              "    display: none;\n",
              "    fill: var(--fill-color);\n",
              "    height: 32px;\n",
              "    padding: 0;\n",
              "    width: 32px;\n",
              "  }\n",
              "\n",
              "  .colab-df-quickchart:hover {\n",
              "    background-color: var(--hover-bg-color);\n",
              "    box-shadow: 0 1px 2px rgba(60, 64, 67, 0.3), 0 1px 3px 1px rgba(60, 64, 67, 0.15);\n",
              "    fill: var(--button-hover-fill-color);\n",
              "  }\n",
              "\n",
              "  .colab-df-quickchart-complete:disabled,\n",
              "  .colab-df-quickchart-complete:disabled:hover {\n",
              "    background-color: var(--disabled-bg-color);\n",
              "    fill: var(--disabled-fill-color);\n",
              "    box-shadow: none;\n",
              "  }\n",
              "\n",
              "  .colab-df-spinner {\n",
              "    border: 2px solid var(--fill-color);\n",
              "    border-color: transparent;\n",
              "    border-bottom-color: var(--fill-color);\n",
              "    animation:\n",
              "      spin 1s steps(1) infinite;\n",
              "  }\n",
              "\n",
              "  @keyframes spin {\n",
              "    0% {\n",
              "      border-color: transparent;\n",
              "      border-bottom-color: var(--fill-color);\n",
              "      border-left-color: var(--fill-color);\n",
              "    }\n",
              "    20% {\n",
              "      border-color: transparent;\n",
              "      border-left-color: var(--fill-color);\n",
              "      border-top-color: var(--fill-color);\n",
              "    }\n",
              "    30% {\n",
              "      border-color: transparent;\n",
              "      border-left-color: var(--fill-color);\n",
              "      border-top-color: var(--fill-color);\n",
              "      border-right-color: var(--fill-color);\n",
              "    }\n",
              "    40% {\n",
              "      border-color: transparent;\n",
              "      border-right-color: var(--fill-color);\n",
              "      border-top-color: var(--fill-color);\n",
              "    }\n",
              "    60% {\n",
              "      border-color: transparent;\n",
              "      border-right-color: var(--fill-color);\n",
              "    }\n",
              "    80% {\n",
              "      border-color: transparent;\n",
              "      border-right-color: var(--fill-color);\n",
              "      border-bottom-color: var(--fill-color);\n",
              "    }\n",
              "    90% {\n",
              "      border-color: transparent;\n",
              "      border-bottom-color: var(--fill-color);\n",
              "    }\n",
              "  }\n",
              "</style>\n",
              "\n",
              "  <script>\n",
              "    async function quickchart(key) {\n",
              "      const quickchartButtonEl =\n",
              "        document.querySelector('#' + key + ' button');\n",
              "      quickchartButtonEl.disabled = true;  // To prevent multiple clicks.\n",
              "      quickchartButtonEl.classList.add('colab-df-spinner');\n",
              "      try {\n",
              "        const charts = await google.colab.kernel.invokeFunction(\n",
              "            'suggestCharts', [key], {});\n",
              "      } catch (error) {\n",
              "        console.error('Error during call to suggestCharts:', error);\n",
              "      }\n",
              "      quickchartButtonEl.classList.remove('colab-df-spinner');\n",
              "      quickchartButtonEl.classList.add('colab-df-quickchart-complete');\n",
              "    }\n",
              "    (() => {\n",
              "      let quickchartButtonEl =\n",
              "        document.querySelector('#df-34cc43e5-0df3-4a27-ab60-f7dabd439a85 button');\n",
              "      quickchartButtonEl.style.display =\n",
              "        google.colab.kernel.accessAllowed ? 'block' : 'none';\n",
              "    })();\n",
              "  </script>\n",
              "</div>\n",
              "    </div>\n",
              "  </div>\n"
            ]
          },
          "metadata": {},
          "execution_count": 16
        }
      ],
      "source": [
        "df_fin.head()"
      ]
    },
    {
      "cell_type": "markdown",
      "id": "563bfeca",
      "metadata": {
        "id": "563bfeca"
      },
      "source": [
        "***Classification***"
      ]
    },
    {
      "cell_type": "markdown",
      "id": "5e3406c4",
      "metadata": {
        "id": "5e3406c4"
      },
      "source": [
        "Prepare the dataset:"
      ]
    },
    {
      "cell_type": "code",
      "execution_count": 17,
      "id": "bc04f61d",
      "metadata": {
        "id": "bc04f61d"
      },
      "outputs": [],
      "source": [
        "y = df_fin[\"State\"] # ground truth labels\n",
        "X = df_fin.drop([\"State\"], axis=1) # datapoints features\n",
        "# extract actual values from series\n",
        "y = y.values\n",
        "X = X.values"
      ]
    },
    {
      "cell_type": "markdown",
      "id": "7b65051f",
      "metadata": {
        "id": "7b65051f"
      },
      "source": [
        "Train test split\n",
        "\n",
        "$75\\%$ of the data are in the training set, the remaining $25\\%$ constitutes the test set."
      ]
    },
    {
      "cell_type": "code",
      "execution_count": 18,
      "id": "f11e105c",
      "metadata": {
        "id": "f11e105c"
      },
      "outputs": [],
      "source": [
        "from sklearn.model_selection import train_test_split\n",
        "\n",
        "# Splitting the dataset into training and testing sets\n",
        "# X represents the features (independent variables), and y represents the target (dependent variable).\n",
        "\n",
        "# Using train_test_split function to create the training and testing sets\n",
        "# X_train and y_train: Training features and labels\n",
        "# X_test and y_test: Testing features and labels\n",
        "\n",
        "# The 'test_size=0.25' parameter sets the proportion of the dataset to include in the test split. Here, 25% of the data is allocated to the test set.\n",
        "# The 'random_state=0' parameter sets the random seed for reproducibility of the split.\n",
        "\n",
        "X_train, X_test, y_train, y_test = train_test_split(X, y, test_size=0.25, random_state=0)\n",
        "\n"
      ]
    },
    {
      "cell_type": "markdown",
      "source": [
        "Quanti dati ci sono per ogni classe?"
      ],
      "metadata": {
        "id": "K9oGxl_KtLGb"
      },
      "id": "K9oGxl_KtLGb"
    },
    {
      "cell_type": "code",
      "source": [
        "val_counts = df_fin['State'].value_counts()\n",
        "print(\"Number of samples for each class: \")\n",
        "for i in range(len(val_counts)):\n",
        "    print(\" - Class {}: {}\".format(i, val_counts[i]))"
      ],
      "metadata": {
        "colab": {
          "base_uri": "https://localhost:8080/"
        },
        "id": "yG-xHsRKktwE",
        "outputId": "8d3556e2-b5a4-4af4-a194-829b587a3370"
      },
      "execution_count": 19,
      "outputs": [
        {
          "output_type": "stream",
          "name": "stdout",
          "text": [
            "Number of samples for each class: \n",
            " - Class 0: 16\n",
            " - Class 1: 17\n"
          ]
        }
      ],
      "id": "yG-xHsRKktwE"
    },
    {
      "cell_type": "markdown",
      "source": [
        "Potrebbe tornarmi anche utile andare a valutare le correlazioni tra le varie classi"
      ],
      "metadata": {
        "id": "6Wr0wktstSEF"
      },
      "id": "6Wr0wktstSEF"
    },
    {
      "cell_type": "code",
      "source": [
        "corr = df_fin.corr()\n",
        "fig = plt.figure()\n",
        "ax = fig.add_subplot()\n",
        "cax = ax.matshow(corr, cmap='pink')\n",
        "fig.colorbar(cax)\n",
        "ticks = np.arange(0, len(corr.columns), 1)\n",
        "ax.set_xticks(ticks)\n",
        "ax.set_yticks(ticks)\n",
        "plt.xticks(rotation=90)\n",
        "ax.set_xticklabels(corr.columns)\n",
        "ax.set_yticklabels(corr.columns)\n",
        "plt.show()"
      ],
      "metadata": {
        "colab": {
          "base_uri": "https://localhost:8080/",
          "height": 538
        },
        "id": "k5xigQP_sVKb",
        "outputId": "6dae68d1-9935-45af-deb2-4d722a97a808"
      },
      "execution_count": 20,
      "outputs": [
        {
          "output_type": "display_data",
          "data": {
            "text/plain": [
              "<Figure size 640x480 with 2 Axes>"
            ],
            "image/png": "[encoded data removed]"
          },
          "metadata": {}
        }
      ],
      "id": "k5xigQP_sVKb"
    },
    {
      "cell_type": "code",
      "source": [
        "print(df_fin.columns)"
      ],
      "metadata": {
        "colab": {
          "base_uri": "https://localhost:8080/"
        },
        "id": "sESUs_adWiWt",
        "outputId": "14001555-982c-4612-c53a-09fa400a27c1"
      },
      "execution_count": 21,
      "outputs": [
        {
          "output_type": "stream",
          "name": "stdout",
          "text": [
            "Index(['State', 'R&D Spend', 'Administration', 'Marketing Spend', 'Profit'], dtype='object')\n"
          ]
        }
      ],
      "id": "sESUs_adWiWt"
    },
    {
      "cell_type": "markdown",
      "source": [
        "Sembra esserci poca correlazione tra le variabile categorica State le le altre variabili. Scegliamo di perndere le variabili che comunque risultano essere più correlate con state quindi inzialmente fare un paiplot e poi di visualizzare uno scatterplot tra R&S Spend, Administration e State\n"
      ],
      "metadata": {
        "id": "ZRE6qfWIWwQ2"
      },
      "id": "ZRE6qfWIWwQ2"
    },
    {
      "cell_type": "code",
      "source": [
        "print(df_fin.drop([\"State\"], axis = 1).corr())\n",
        "pairplot(df_fin, hue=\"State\", palette = \"pink\")"
      ],
      "metadata": {
        "colab": {
          "base_uri": "https://localhost:8080/",
          "height": 872
        },
        "id": "WfINSQftteLJ",
        "outputId": "2cc447a4-8b45-46f8-b779-8773094313df"
      },
      "execution_count": 22,
      "outputs": [
        {
          "output_type": "stream",
          "name": "stdout",
          "text": [
            "                 R&D Spend  Administration  Marketing Spend    Profit\n",
            "R&D Spend         1.000000        0.168762         0.574895  0.838785\n",
            "Administration    0.168762        1.000000        -0.156017  0.082222\n",
            "Marketing Spend   0.574895       -0.156017         1.000000  0.662070\n",
            "Profit            0.838785        0.082222         0.662070  1.000000\n"
          ]
        },
        {
          "output_type": "execute_result",
          "data": {
            "text/plain": [
              "<seaborn.axisgrid.PairGrid at 0x78ace2256a70>"
            ]
          },
          "metadata": {},
          "execution_count": 22
        },
        {
          "output_type": "display_data",
          "data": {
            "text/plain": [
              "<Figure size 1072x1000 with 20 Axes>"
            ],
            "image/png": "[encoded data removed]"
          },
          "metadata": {}
        }
      ],
      "id": "WfINSQftteLJ"
    },
    {
      "cell_type": "code",
      "source": [
        "fig, (ax1, ax2) = plt.subplots(1,2, sharex=True, sharey=True, figsize=(17, 9))\n",
        "\n",
        "# Trainig Set\n",
        "ax1.scatter(X_train[:,0], X_train[:,1], c=y_train, cmap='copper', s=70)\n",
        "ax1.set_title(\"Trainig Set\")\n",
        "plt.xlabel(\"R&D Spend\")\n",
        "plt.ylabel(\"Administration\")\n",
        "plt.title(\"Training Set\")\n",
        "\n",
        "# Test set\n",
        "ax2.scatter(X_test[:,0], X_test[:,1], c=y_test, cmap='copper', s=70)\n",
        "ax2.set_title(\"Test Set\")\n",
        "plt.xlabel(\"R&D Spend\")\n",
        "plt.ylabel(\"Administration\")\n",
        "plt.title(\"Test Set\")\n",
        "\n",
        "plt.show()"
      ],
      "metadata": {
        "colab": {
          "base_uri": "https://localhost:8080/",
          "height": 478
        },
        "id": "CRDR5pkXk03Q",
        "outputId": "258594f6-58b2-4afb-c3dc-8e0c0004f533"
      },
      "id": "CRDR5pkXk03Q",
      "execution_count": 105,
      "outputs": [
        {
          "output_type": "display_data",
          "data": {
            "text/plain": [
              "<Figure size 1700x900 with 2 Axes>"
            ],
            "image/png": "[encoded data removed]"
          },
          "metadata": {}
        }
      ]
    },
    {
      "cell_type": "markdown",
      "id": "5ee09c7e",
      "metadata": {
        "id": "5ee09c7e"
      },
      "source": [
        "###Train the Logistic Regression Model"
      ]
    },
    {
      "cell_type": "code",
      "execution_count": 24,
      "id": "1d4b2d20",
      "metadata": {
        "id": "1d4b2d20"
      },
      "outputs": [],
      "source": [
        "from sklearn.linear_model import LogisticRegression"
      ]
    },
    {
      "cell_type": "code",
      "execution_count": 25,
      "id": "592bb5af",
      "metadata": {
        "id": "592bb5af",
        "colab": {
          "base_uri": "https://localhost:8080/"
        },
        "outputId": "c0c16f0d-79cf-4ebd-d0aa-6cb94d9c825d"
      },
      "outputs": [
        {
          "output_type": "stream",
          "name": "stderr",
          "text": [
            "/usr/local/lib/python3.10/dist-packages/sklearn/linear_model/_logistic.py:1173: FutureWarning: `penalty='none'`has been deprecated in 1.2 and will be removed in 1.4. To keep the past behaviour, set `penalty=None`.\n",
            "  warnings.warn(\n"
          ]
        },
        {
          "output_type": "execute_result",
          "data": {
            "text/plain": [
              "0.2222"
            ]
          },
          "metadata": {},
          "execution_count": 25
        }
      ],
      "source": [
        "# Creating a Logistic Regression model with specific parameters\n",
        "# - 'random_state=0' ensures reproducibility by setting the random seed.\n",
        "# - 'solver='lbfgs'' selects the optimization algorithm for the logistic regression.\n",
        "\n",
        "LR = LogisticRegression(random_state=0, solver='lbfgs', penalty = 'none').fit(X_train, y_train)\n",
        "\n",
        "# Predicting the target variable (y) using the Logistic Regression model on the test set (X_test).\n",
        "predictions = LR.predict(X_test)\n",
        "\n",
        "# Calculating and rounding the accuracy score of the Logistic Regression model on the test set.\n",
        "# The score is calculated by comparing the predicted values to the actual values (y_test).\n",
        "accuracy = round(LR.score(X_test, y_test), 4)\n",
        "accuracy\n",
        "\n"
      ]
    },
    {
      "cell_type": "code",
      "source": [
        "fig, (ax1, ax2) = plt.subplots(1,2, sharex=True, sharey=True, figsize=(16, 8))\n",
        "\n",
        "ax1.scatter(X_test[:,0], X_test[:,1], c=y_test, cmap='copper', s=70)\n",
        "ax1.set_title(\"Ground Truth\")\n",
        "plt.xlabel(\"R&D Spend\")\n",
        "plt.ylabel(\"Administration\")\n",
        "plt.title(\"TRUE VALUES\")\n",
        "for i, txt in enumerate(y_test):\n",
        "    ax1.annotate(txt, (X_test[:,0][i],X_test[:,1][i]))\n",
        "\n",
        "\n",
        "# Test set\n",
        "ax2.scatter(X_test[:,0], X_test[:,1], c=predictions, cmap='copper', s=70)\n",
        "plt.xlabel(\"R&D Spend\")\n",
        "plt.ylabel(\"Administration\")\n",
        "plt.title(\"PREDICTED VALUES\")\n",
        "for i, txt in enumerate(predictions):\n",
        "    ax2.annotate(txt, (X_test[:,0][i],X_test[:,1][i]))\n",
        "\n",
        "plt.show()"
      ],
      "metadata": {
        "colab": {
          "base_uri": "https://localhost:8080/",
          "height": 456
        },
        "id": "7SHHkof5oIzY",
        "outputId": "694c3d54-3377-4df1-f5da-5c10e1b7b7da"
      },
      "execution_count": 107,
      "outputs": [
        {
          "output_type": "display_data",
          "data": {
            "text/plain": [
              "<Figure size 1600x800 with 2 Axes>"
            ],
            "image/png": "[encoded data removed]"
          },
          "metadata": {}
        }
      ],
      "id": "7SHHkof5oIzY"
    },
    {
      "cell_type": "markdown",
      "id": "6f9b7d00",
      "metadata": {
        "id": "6f9b7d00"
      },
      "source": [
        "***Plot results***"
      ]
    },
    {
      "cell_type": "code",
      "source": [
        "from sklearn.metrics import classification_report, confusion_matrix\n",
        "cm = confusion_matrix(y_test, predictions)\n",
        "\n",
        "fig, ax = plt.subplots(figsize=(8, 8))\n",
        "ax.imshow(cm)\n",
        "cax = ax.imshow(cm, cmap='copper')\n",
        "ax.grid(False)\n",
        "ax.xaxis.set(ticks=(0, 1), ticklabels=('Predicted 0', 'Predicted 1'))\n",
        "ax.yaxis.set(ticks=(0, 1), ticklabels=('Actual 0', 'Actual 1'))\n",
        "ax.set_ylim(1.5, -0.5)\n",
        "for i in range(2):\n",
        "    for j in range(2):\n",
        "        ax.text(j, i, cm[i, j], ha='center', va='center', color='white', fontsize=20, weight = 'bold')\n",
        "cbar = ax.figure.colorbar(cax, ax=ax)\n",
        "cbar.ax.set_ylabel('Counts', rotation=-90, va=\"bottom\")\n",
        "plt.show()\n",
        "\n"
      ],
      "metadata": {
        "colab": {
          "base_uri": "https://localhost:8080/",
          "height": 666
        },
        "id": "wP7tGt2jYFls",
        "outputId": "dcfccb3e-5f86-4836-ce42-d86904b5b93b"
      },
      "id": "wP7tGt2jYFls",
      "execution_count": 27,
      "outputs": [
        {
          "output_type": "display_data",
          "data": {
            "text/plain": [
              "<Figure size 800x800 with 2 Axes>"
            ],
            "image/png": "[encoded data removed]"
          },
          "metadata": {}
        }
      ]
    },
    {
      "cell_type": "code",
      "source": [
        "target_names = ['California', 'Florida']\n",
        "print(classification_report(y_test, predictions, target_names=target_names))"
      ],
      "metadata": {
        "colab": {
          "base_uri": "https://localhost:8080/"
        },
        "id": "35C0Rpt3esVH",
        "outputId": "5499f3d1-34a7-4f9b-e511-a4692487ab40"
      },
      "id": "35C0Rpt3esVH",
      "execution_count": 28,
      "outputs": [
        {
          "output_type": "stream",
          "name": "stdout",
          "text": [
            "              precision    recall  f1-score   support\n",
            "\n",
            "  California       0.17      0.33      0.22         3\n",
            "     Florida       0.33      0.17      0.22         6\n",
            "\n",
            "    accuracy                           0.22         9\n",
            "   macro avg       0.25      0.25      0.22         9\n",
            "weighted avg       0.28      0.22      0.22         9\n",
            "\n"
          ]
        }
      ]
    },
    {
      "cell_type": "markdown",
      "id": "0a2a78f4",
      "metadata": {
        "id": "0a2a78f4"
      },
      "source": [
        "***Add regularization***\n",
        "\n",
        "Implement from scratch the regularized logistic regression model (with all the regularization techniques seen during the course)."
      ]
    },
    {
      "cell_type": "code",
      "execution_count": 29,
      "id": "68a3e1fa",
      "metadata": {
        "id": "68a3e1fa"
      },
      "outputs": [],
      "source": [
        "import numpy.linalg as LA\n",
        "\n",
        "def sigmoidM(X, w):\n",
        "    \"\"\"\n",
        "    Parameters\n",
        "    ----------\n",
        "    X : array of dim n x d\n",
        "        Matrix containing the dataset\n",
        "    w : array of dim d\n",
        "        Vector representing the coefficients of the logistic model\n",
        "    \"\"\"\n",
        "    y = 1/(1+np.exp(-np.matmul(X,w)))\n",
        "    return y\n",
        "\n",
        "def LogisticLoss(X, y, w):\n",
        "    \"\"\"\n",
        "    Parameters\n",
        "    ----------\n",
        "    X : array of dim n x d\n",
        "        Matrix containing the dataset\n",
        "    y : array of dim n\n",
        "        Vector representing the ground truth label of each data point\n",
        "    w : array of dim d\n",
        "        Vector representing the coefficients of the logistic model\n",
        "    \"\"\"\n",
        "    points = np.shape(X)[0] # number of rows x\n",
        "\n",
        "    return -(1/points)*np.sum(y*np.log(sigmoidM(X,w)) + (1-y)*np.log(1-sigmoidM(X,w)))\n",
        "\n",
        "def OLSGradient(X,y,w, points):\n",
        "    return (2/points)*(np.transpose(X)@(sigmoidM(X,w)-y))\n"
      ]
    },
    {
      "cell_type": "markdown",
      "source": [
        "# RIDGE REGRESSION"
      ],
      "metadata": {
        "id": "YNsLANhr6I8L"
      },
      "id": "YNsLANhr6I8L"
    },
    {
      "cell_type": "code",
      "source": [
        "def RidgeSquareLoss(X, y, w, lam):\n",
        "    \"\"\"\n",
        "    Parameters\n",
        "    ----------\n",
        "    X : array of float dim n x d\n",
        "        Matrix containing the dataset\n",
        "    y : array of float of dim n\n",
        "        Vector containing the ground truth value of each data point\n",
        "    w : array of float of dim d\n",
        "        Weights of the fitted line1995\n",
        "    lam : float\n",
        "        Weight of the L2 penalty term\n",
        "      \"\"\"\n",
        "    points = np.shape(X)[0] # number of rows x\n",
        "    return LogisticLoss(X,y,w) + 1/points*lam*LA.norm(w,2)\n",
        "\n",
        "def RidgeGradient(w, lam):\n",
        "    return 2*lam*w\n",
        "\n",
        "def GDRidge(X, y, iter, gamma, lam):\n",
        "    \"\"\"\n",
        "    Parameters\n",
        "    ----------\n",
        "    X : array of float dim n x d\n",
        "        Matrix containing the dataset\n",
        "    y : array of float of dim n\n",
        "        Vector containing the ground truth value of each data point\n",
        "    iter : int\n",
        "        Number of GD iterations\n",
        "    gamma : float\n",
        "        Learning rate\n",
        "    points : int\n",
        "        Number of points in our dataset\n",
        "    lam : float\n",
        "        Weight of the L2 penalty term\n",
        "    \"\"\"\n",
        "    d = np.shape(X)\n",
        "    L = np.zeros(iter)\n",
        "    w = np.random.uniform(0, 0.01, d[1])\n",
        "    W = np.zeros((d[1],iter))\n",
        "    for i in range(iter):\n",
        "        W[:,i] = w # Store the current weights in the W array\n",
        "        w = w - gamma * (OLSGradient(X,y,w,d[0]) + 1/d[0]*RidgeGradient(w, lam))\n",
        "        # Calculate and store the current loss value with Ridge regularization\n",
        "        L[i] = RidgeSquareLoss(X,y,w,lam)\n",
        "    return W, L\n"
      ],
      "metadata": {
        "id": "qQ8oC-iZgHQr"
      },
      "id": "qQ8oC-iZgHQr",
      "execution_count": 30,
      "outputs": []
    },
    {
      "cell_type": "code",
      "source": [
        "iter = 2000\n",
        "gamma = 0.1\n",
        "lam = 0.1\n",
        "w = LR.coef_\n",
        "\n",
        "wgd_Ridge, Loss_Ridge = GDRidge(X_train, y_train, iter, gamma, lam)\n",
        "# obtain final coeficients from the last row of the array wdg_Ridge\n",
        "wpred_Ridge = wgd_Ridge[:,-1]\n",
        "# oobtain labes\n",
        "y_pred_Ridge = sigmoidM(X_test, wpred_Ridge)\n",
        "y_pred_Ridge = np.where(y_pred_Ridge>0.5,1,0)\n",
        "print('L2 Norm of the Difference Between LR Weigths and LR_Ridge Weights: ',\n",
        "      LA.norm(w-wpred_Ridge,2))"
      ],
      "metadata": {
        "colab": {
          "base_uri": "https://localhost:8080/"
        },
        "id": "c4n82sWN1Ggl",
        "outputId": "37b1c902-8bdb-4964-b179-421e5b545f3e"
      },
      "id": "c4n82sWN1Ggl",
      "execution_count": 31,
      "outputs": [
        {
          "output_type": "stream",
          "name": "stdout",
          "text": [
            "L2 Norm of the Difference Between LR Weigths and LR_Ridge Weights:  8.156033122511493\n"
          ]
        }
      ]
    },
    {
      "cell_type": "code",
      "source": [
        "# plot\n",
        "plt.plot(Loss_Ridge, color = \"saddlebrown\")\n",
        "plt.title('Loss Ridge')\n",
        "plt.xlabel('Iter')\n",
        "plt.ylabel('Loss')\n",
        "plt.show()"
      ],
      "metadata": {
        "colab": {
          "base_uri": "https://localhost:8080/",
          "height": 472
        },
        "id": "hd_3Y-RI9TxC",
        "outputId": "c795cbc1-1738-4fab-81fe-1477a07f9d7d"
      },
      "id": "hd_3Y-RI9TxC",
      "execution_count": 85,
      "outputs": [
        {
          "output_type": "display_data",
          "data": {
            "text/plain": [
              "<Figure size 640x480 with 1 Axes>"
            ],
            "image/png": "[encoded data removed]"
          },
          "metadata": {}
        }
      ]
    },
    {
      "cell_type": "markdown",
      "source": [
        "# LASSO REGULARIZATION"
      ],
      "metadata": {
        "id": "bENL9Kps52w1"
      },
      "id": "bENL9Kps52w1"
    },
    {
      "cell_type": "code",
      "source": [
        "def LassoSquareLoss(X, y, w, lam):\n",
        "    \"\"\"\n",
        "    Parameters\n",
        "    ----------\n",
        "    X : array of float dim n x d\n",
        "        Matrix containing the dataset\n",
        "    y : array of float of dim n\n",
        "        Vector containing the ground truth value of each data point\n",
        "    w : array of float of dim d\n",
        "        Weights of the fitted line\n",
        "    lam : float\n",
        "        Weight of the L1 penalty term\n",
        "    \"\"\"\n",
        "    points = np.shape(X)[0] # number of rows x\n",
        "    # Loss function\n",
        "    return LogisticLoss(X,y,w) + 1/points*lam*LA.norm(w,1)\n",
        "\n",
        "def L1_subgradient(z):\n",
        "    \"\"\"\n",
        "    Compute the subgradient of the absolute value function element-wise.\n",
        "\n",
        "    Parameters:\n",
        "    ----------\n",
        "    z : array-like\n",
        "        Input array for which the subgradient is calculated.\n",
        "\n",
        "    Returns:\n",
        "    ----------\n",
        "    g : array-like\n",
        "        Subgradient of the absolute value function applied element-wise to `z`.\n",
        "    \"\"\"\n",
        "    # Create an array g of the same shape as z, initialized with all 1s.\n",
        "    g = np.ones(z.shape)\n",
        "    # Check each element of z.\n",
        "    for i in range(z.shape[0]):\n",
        "        # If the element is negative, set the corresponding element in g to -1.\n",
        "        if z[i] < 0.:\n",
        "            g[i] = -1.0\n",
        "\n",
        "    # Return the resulting array g, representing the subgradient.\n",
        "    return g\n",
        "\n",
        "def LassoGradient(w, lam):\n",
        "    return lam * L1_subgradient(w)\n",
        "\n",
        "def GDLasso(X, y, iter, gamma,lam):\n",
        "    \"\"\"\n",
        "    Parameters\n",
        "    ----------\n",
        "    X : array of float dim n x d\n",
        "        Matrix containing the dataset\n",
        "    y : array of float of dim n\n",
        "        Vector containing the ground truth value of each data point\n",
        "    iter : int\n",
        "        Number of GD iterations\n",
        "    gamma : float\n",
        "        Learning rate\n",
        "    points : int\n",
        "        Number of points in our dataset\n",
        "    d : int\n",
        "        Dimensionality of each data point in the dataset\n",
        "    lam : float\n",
        "        Weight of the L2 penalty term\n",
        "     Returns:\n",
        "    ----------\n",
        "    W : array-like, shape (d, iter)\n",
        "        Matrix to store weights at each iteration.\n",
        "    L : array-like, shape (iter,)\n",
        "        Array to store loss values at each iteration.\n",
        "    \"\"\"\n",
        "\n",
        "    d = np.shape(X)\n",
        "    L = np.zeros(iter)\n",
        "    # Initialize weights with random values.\n",
        "    w = np.random.uniform(0, 0.01, d[1])\n",
        "    W = np.zeros((d[1],iter))\n",
        "    # Perform gradient descent iterations.\n",
        "    for i in range(iter):\n",
        "        # Store the current weight vector in the W matrix.\n",
        "        W[:,i] = w\n",
        "        # Update the weight vector using the gradient of Lasso (L1-regularized) loss.\n",
        "        w = w - gamma * (OLSGradient(X,y,w,d[0]) + 1/d[0]*LassoGradient(w, lam))\n",
        "        # Calculate and store the loss value for this iteration.\n",
        "        L[i] = LassoSquareLoss(X,y,w,lam)\n",
        "    # Return the matrix of weight vectors and the array of loss values.\n",
        "    return W, L"
      ],
      "metadata": {
        "id": "ZvXfAAsP15OY"
      },
      "id": "ZvXfAAsP15OY",
      "execution_count": 33,
      "outputs": []
    },
    {
      "cell_type": "code",
      "source": [
        "iter = 3000\n",
        "gamma = 0.1\n",
        "lam = 0.1\n",
        "w = LR.coef_\n",
        "\n",
        "wgd_Lasso, Loss_Lasso = GDLasso(X_train, y_train, iter, gamma, lam)\n",
        "# obtain final coeficients from the last row of array wdg_Ridge\n",
        "wpred_Lasso= wgd_Lasso[:,-1]\n",
        "y_pred_Lasso = sigmoidM(X_test, wpred_Lasso)\n",
        "y_pred_Lasso = np.where(y_pred_Lasso>0.5,1,0)\n",
        "print('L2 Norm of the Difference Between LR Weigths and LR_Lasso Weights: ',\n",
        "      LA.norm(w-wpred_Lasso,2))\n"
      ],
      "metadata": {
        "colab": {
          "base_uri": "https://localhost:8080/"
        },
        "id": "z7Dbh5NU17Na",
        "outputId": "a821be50-1c70-4e6d-b5b3-412c65f0cfa4"
      },
      "id": "z7Dbh5NU17Na",
      "execution_count": 34,
      "outputs": [
        {
          "output_type": "stream",
          "name": "stdout",
          "text": [
            "L2 Norm of the Difference Between LR Weigths and LR_Lasso Weights:  6.183391578932663\n"
          ]
        }
      ]
    },
    {
      "cell_type": "code",
      "source": [
        "# plot\n",
        "plt.plot(Loss_Lasso, color = \"saddlebrown\")\n",
        "plt.title('Loss Lasso')\n",
        "plt.xlabel('Iter')\n",
        "plt.ylabel('Loss')\n",
        "plt.show()\n"
      ],
      "metadata": {
        "colab": {
          "base_uri": "https://localhost:8080/",
          "height": 472
        },
        "id": "jTwC0VRzCvBg",
        "outputId": "1b1d50a7-c9fd-4c12-8cab-94dccc970bbd"
      },
      "id": "jTwC0VRzCvBg",
      "execution_count": 84,
      "outputs": [
        {
          "output_type": "display_data",
          "data": {
            "text/plain": [
              "<Figure size 640x480 with 1 Axes>"
            ],
            "image/png": "[encoded data removed]"
          },
          "metadata": {}
        }
      ]
    },
    {
      "cell_type": "markdown",
      "source": [
        "# ELASTIC NET"
      ],
      "metadata": {
        "id": "yu6Bk9NW6Sln"
      },
      "id": "yu6Bk9NW6Sln"
    },
    {
      "cell_type": "code",
      "source": [
        "def LogisticLoss(X, y, w):\n",
        "    \"\"\"\n",
        "    Parameters\n",
        "    ----------\n",
        "    X : array of dim n x d\n",
        "        Matrix containing the dataset\n",
        "    y : array of dim n\n",
        "        Vector representing the ground truth label of each data point\n",
        "    w : array of dim d\n",
        "        Vector representing the coefficients of the logistic model\n",
        "    \"\"\"\n",
        "    n = np.shape(X)[0] # number of rows x\n",
        "    return -(1/n)*np.sum(y*np.log(sigmoidM(X,w)) + (1-y)*np.log(1-sigmoidM(X,w)))\n",
        "\n",
        "def OLSGradient(X,y,w, points):\n",
        "    return (2/points)*(np.transpose(X)@(sigmoidM(X,w)-y))"
      ],
      "metadata": {
        "id": "w10Ial3d7sdd"
      },
      "id": "w10Ial3d7sdd",
      "execution_count": 36,
      "outputs": []
    },
    {
      "cell_type": "code",
      "source": [
        "# Elastic Net Loss Function\n",
        "def ElasticNetSquareLoss(X, y, w, lr, l, points):\n",
        "    \"\"\"\n",
        "    Calculate the Elastic Net loss for linear regression.\n",
        "\n",
        "    Parameters\n",
        "    ----------\n",
        "    X : array of float dim n x d\n",
        "        Matrix containing the dataset.\n",
        "    y : array of float of dim n\n",
        "        Vector containing the ground truth value of each data point.\n",
        "    w : array of float of dim d\n",
        "        Weights of the fitted line.\n",
        "    lr : float\n",
        "        Convex combination parameter (controls L1 vs. L2 regularization).\n",
        "    l : float\n",
        "        Regularization strength parameter.\n",
        "\n",
        "    Returns\n",
        "    -------\n",
        "    loss : float\n",
        "        Elastic Net loss.\n",
        "    \"\"\"\n",
        "    return LogisticLoss(X, y, w) + 1/points*(lr*l*LA.norm(w, 1) + (1-lr)*l*LA.norm(w, 2))\n",
        "\n",
        "# Elastic Net Gradient Function\n",
        "def ElasticNetGradient(X, y, w, lr, l, points):\n",
        "    \"\"\"\n",
        "    Calculate the gradient for Elastic Net regularization.\n",
        "\n",
        "    Parameters\n",
        "    ----------\n",
        "    X : array of float dim n x d\n",
        "        Matrix containing the dataset.\n",
        "    y : array of float of dim n\n",
        "        Vector containing the ground truth value of each data point.\n",
        "    w : array of float of dim d\n",
        "        Weights of the fitted line.\n",
        "    lr : float\n",
        "        Convex combination parameter (controls L1 vs. L2 regularization).\n",
        "    l : float\n",
        "        Regularization strength parameter.\n",
        "    points : int\n",
        "        Number of data points.\n",
        "\n",
        "    Returns\n",
        "    -------\n",
        "    gradient : array of float of dim d\n",
        "        Gradient of the Elastic Net regularization term.\n",
        "    \"\"\"\n",
        "    return OLSGradient(X,y,w,points) + l/points*((1-lr)* RidgeGradient(w, l) + lr*LassoGradient(w, l))\n",
        "\n",
        "# Gradient Descent with Elastic Net Regularization\n",
        "def GDElasticNet(X, y, lr, l, iter, gamma):\n",
        "    \"\"\"\n",
        "    Perform Gradient Descent with Elastic Net regularization for linear regression.\n",
        "\n",
        "    Parameters\n",
        "    ----------\n",
        "    X : array of float dim n x d\n",
        "        Matrix containing the dataset.\n",
        "    y : array of float of dim n\n",
        "        Vector containing the ground truth value of each data point.\n",
        "    lr : float\n",
        "        Convex combination parameter (controls L1 vs. L2 regularization).\n",
        "    l : float\n",
        "        Regularization strength parameter.\n",
        "    iter : int\n",
        "        Number of GD iterations.\n",
        "    gamma : float\n",
        "        Learning rate.\n",
        "\n",
        "    Returns\n",
        "    -------\n",
        "    W : array of float of dim d x iter\n",
        "        Weight vectors at each iteration.\n",
        "    L : array of float of dim iter\n",
        "        Loss values at each iteration.\n",
        "    \"\"\"\n",
        "    points = X.shape[0]\n",
        "    d = X.shape[1]\n",
        "    W = np.zeros((d, iter))\n",
        "    L = np.zeros(iter)\n",
        "    w = np.random.normal(0, 0.1, d)\n",
        "    for i in range(iter):\n",
        "        W[:, i] = w\n",
        "        w = w - gamma * ElasticNetGradient(X, y, w, lr, l, points)\n",
        "        L[i] = ElasticNetSquareLoss(X, y, w, lr, l, points)\n",
        "    return W, L\n"
      ],
      "metadata": {
        "id": "lbwUfnP66ZqZ"
      },
      "id": "lbwUfnP66ZqZ",
      "execution_count": 37,
      "outputs": []
    },
    {
      "cell_type": "code",
      "source": [
        "iter = 3000\n",
        "gamma = 0.1\n",
        "lam = 0.1\n",
        "lr = 0.5\n",
        "\n",
        "wgd_ElasticNet, Loss_ElasticNet = GDElasticNet(X, y, lr, lam, iter, gamma)\n",
        "wpred_ElasticNet = wgd_ElasticNet[:,-1]\n",
        "y_pred_ElasticNet = sigmoidM(X_test, wpred_ElasticNet)\n",
        "y_pred_ElasticNet = np.where(y_pred_ElasticNet>0.5,1,0)\n",
        "print('L2 norm of the Differenca Between LR Weigths and LR_ElasticNet Weights: ',\n",
        "      LA.norm(w-wpred_ElasticNet,2))"
      ],
      "metadata": {
        "colab": {
          "base_uri": "https://localhost:8080/"
        },
        "id": "7EnuGf7t6ZWn",
        "outputId": "8e6ae388-3c53-4394-e1f3-6e48b0bf8823"
      },
      "id": "7EnuGf7t6ZWn",
      "execution_count": 38,
      "outputs": [
        {
          "output_type": "stream",
          "name": "stdout",
          "text": [
            "L2 norm of the Differenca Between LR Weigths and LR_ElasticNet Weights:  9.375516509063212\n"
          ]
        }
      ]
    },
    {
      "cell_type": "code",
      "source": [
        "plt.plot(Loss_ElasticNet, color=\"saddlebrown\")\n",
        "plt.title('Loss Lasso')\n",
        "plt.xlabel('Iter')\n",
        "plt.ylabel('Loss')\n",
        "plt.show()"
      ],
      "metadata": {
        "colab": {
          "base_uri": "https://localhost:8080/",
          "height": 472
        },
        "id": "E4BPv6pH6ytQ",
        "outputId": "657b0429-0216-4e4f-f96d-0701e65b158d"
      },
      "id": "E4BPv6pH6ytQ",
      "execution_count": 83,
      "outputs": [
        {
          "output_type": "display_data",
          "data": {
            "text/plain": [
              "<Figure size 640x480 with 1 Axes>"
            ],
            "image/png": "[encoded data removed]"
          },
          "metadata": {}
        }
      ]
    },
    {
      "cell_type": "markdown",
      "id": "7a05776d",
      "metadata": {
        "id": "7a05776d"
      },
      "source": [
        "***Model assessment***\n",
        "\n",
        "Given true and predicted values, compute the most common classification metrics to assess the quality of your predictions."
      ]
    },
    {
      "cell_type": "code",
      "execution_count": 40,
      "id": "b3a864f9",
      "metadata": {
        "id": "b3a864f9",
        "colab": {
          "base_uri": "https://localhost:8080/"
        },
        "outputId": "6bc3a49b-ee65-4715-f149-4b7084355893"
      },
      "outputs": [
        {
          "output_type": "stream",
          "name": "stdout",
          "text": [
            "              precision    recall  f1-score   support\n",
            "\n",
            "  California       0.17      0.33      0.22         3\n",
            "     Florida       0.33      0.17      0.22         6\n",
            "\n",
            "    accuracy                           0.22         9\n",
            "   macro avg       0.25      0.25      0.22         9\n",
            "weighted avg       0.28      0.22      0.22         9\n",
            "\n"
          ]
        }
      ],
      "source": [
        "from sklearn.metrics import classification_report\n",
        "y_true = y_test\n",
        "y_pred = LR.predict(X_test)\n",
        "\n",
        "target_names = ['California', 'Florida']\n",
        "print(classification_report(y_true, y_pred, target_names=target_names))"
      ]
    },
    {
      "cell_type": "markdown",
      "source": [
        "Repeat the previous task for regularized logistic regression and compare the results."
      ],
      "metadata": {
        "id": "q8gI_LEMJsB-"
      },
      "id": "q8gI_LEMJsB-"
    },
    {
      "cell_type": "code",
      "source": [
        "target_names = ['California', 'Florida']\n",
        "print(\"Ridge\")\n",
        "print(classification_report(y_test, y_pred_Ridge, target_names=target_names))\n",
        "print(\"Lasso\")\n",
        "print(classification_report(y_test, y_pred_Lasso, target_names=target_names))\n",
        "print(\"Elastic Net\")\n",
        "print(classification_report(y_test, y_pred_ElasticNet, target_names=target_names))"
      ],
      "metadata": {
        "id": "AWSiwxDUJrZz",
        "colab": {
          "base_uri": "https://localhost:8080/"
        },
        "outputId": "a4ec748b-cfa5-43d7-d886-eeac5ec55031"
      },
      "id": "AWSiwxDUJrZz",
      "execution_count": 41,
      "outputs": [
        {
          "output_type": "stream",
          "name": "stdout",
          "text": [
            "Ridge\n",
            "              precision    recall  f1-score   support\n",
            "\n",
            "  California       0.20      0.33      0.25         3\n",
            "     Florida       0.50      0.33      0.40         6\n",
            "\n",
            "    accuracy                           0.33         9\n",
            "   macro avg       0.35      0.33      0.33         9\n",
            "weighted avg       0.40      0.33      0.35         9\n",
            "\n",
            "Lasso\n",
            "              precision    recall  f1-score   support\n",
            "\n",
            "  California       0.20      0.33      0.25         3\n",
            "     Florida       0.50      0.33      0.40         6\n",
            "\n",
            "    accuracy                           0.33         9\n",
            "   macro avg       0.35      0.33      0.33         9\n",
            "weighted avg       0.40      0.33      0.35         9\n",
            "\n",
            "Elastic Net\n",
            "              precision    recall  f1-score   support\n",
            "\n",
            "  California       0.20      0.33      0.25         3\n",
            "     Florida       0.50      0.33      0.40         6\n",
            "\n",
            "    accuracy                           0.33         9\n",
            "   macro avg       0.35      0.33      0.33         9\n",
            "weighted avg       0.40      0.33      0.35         9\n",
            "\n"
          ]
        }
      ]
    },
    {
      "cell_type": "markdown",
      "id": "d208a7b9",
      "metadata": {
        "id": "d208a7b9"
      },
      "source": [
        "***ROC curve***\n",
        "\n",
        "Implement a function for producing the Receiver Operating Characteristic (ROC) curve.\n",
        "\n",
        "Given true and predicted values, plot the ROC curve using your implemented function."
      ]
    },
    {
      "cell_type": "code",
      "source": [
        "import numpy as np\n",
        "import matplotlib.pyplot as plt\n",
        "\n",
        "def find_metrics(y_true, y_pred_prob, threshold):\n",
        "    tp = 0\n",
        "    fp = 0\n",
        "    tn = 0\n",
        "    fn = 0\n",
        "\n",
        "    for true_label, pred_prob in zip(y_true, y_pred_prob):\n",
        "        predicted_label = 1 if pred_prob >= threshold else 0\n",
        "\n",
        "        if true_label == 1:\n",
        "            if predicted_label == 1:\n",
        "                tp += 1\n",
        "            else:\n",
        "                fn += 1\n",
        "        else:\n",
        "            if predicted_label == 0:\n",
        "                tn += 1\n",
        "            else:\n",
        "                fp += 1\n",
        "\n",
        "    tpr = tp / (tp + fn) if (tp + fn) > 0 else 0\n",
        "    fpr = fp / (tn + fp) if (tn + fp) > 0 else 0\n",
        "\n",
        "    return [fpr, tpr]\n",
        "\n",
        "def create_roc(y_true, y_pred_prob, thresholds):\n",
        "    roc = np.array([])\n",
        "    for threshold in thresholds:\n",
        "        fpr, tpr = find_metrics(y_true, y_pred_prob, threshold)\n",
        "        roc = np.append(roc, [fpr, tpr])\n",
        "\n",
        "    roc = roc.reshape(-1, 2)\n",
        "    roc = roc[roc[:,0].argsort()]  # Sort by FPR for correct plotting order\n",
        "    return roc\n",
        "\n",
        "# Example usage\n",
        "thresholds = [0, 0.05, 0.1, 0.15, 0.2, 0.25, 0.3, 0.35, 0.4, 0.45, 0.5, 0.55, 0.6, 0.65, 0.7, 0.75, 0.8, 0.85, 0.9, 0.95, 1]\n",
        "y_pred_prob = LR.predict_proba(X_test)[:, 1]\n",
        "ROC = create_roc(y_test, y_pred_prob, thresholds)\n",
        "\n",
        "# Plot ROC Curve\n",
        "plt.figure(figsize=(15, 7))\n",
        "plt.plot(ROC[:, 0], ROC[:, 1], color='lightcoral', lw=2)\n",
        "plt.plot([0, 1], [0, 1], 'r--', color = 'saddlebrown', lw=2)\n",
        "plt.xlim([0.0, 1.0])\n",
        "plt.ylim([0.0, 1.05])\n",
        "plt.title('Receiver Operating Characteristic Curve', fontsize=18)\n",
        "plt.xlabel('False Positive Rate', fontsize=16)\n",
        "plt.ylabel('True Positive Rate', fontsize=16)\n",
        "plt.show()\n"
      ],
      "metadata": {
        "colab": {
          "base_uri": "https://localhost:8080/",
          "height": 484
        },
        "id": "N30JQ6n8ESwV",
        "outputId": "fd631547-cba5-493e-cbc6-4f9b4bda45e7"
      },
      "id": "N30JQ6n8ESwV",
      "execution_count": 110,
      "outputs": [
        {
          "output_type": "stream",
          "name": "stderr",
          "text": [
            "<ipython-input-110-7d7b64261ae2>:47: UserWarning: color is redundantly defined by the 'color' keyword argument and the fmt string \"r--\" (-> color='r'). The keyword argument will take precedence.\n",
            "  plt.plot([0, 1], [0, 1], 'r--', color = 'saddlebrown', lw=2)\n"
          ]
        },
        {
          "output_type": "display_data",
          "data": {
            "text/plain": [
              "<Figure size 1500x700 with 1 Axes>"
            ],
            "image/png": "[encoded data removed]"
          },
          "metadata": {}
        }
      ]
    },
    {
      "cell_type": "code",
      "source": [
        "from sklearn.metrics import roc_auc_score\n",
        "from sklearn.metrics import roc_curve\n",
        "\n",
        "logit_roc_auc = roc_auc_score(y_test, y_pred_prob)\n",
        "fpr_sklearn, tpr_sklearn, thresholds = roc_curve(y_test, y_pred_prob)\n",
        "plt.figure(figsize=(15,7))\n",
        "plt.plot(fpr_sklearn, tpr_sklearn,color='lightcoral', label='Logistic Regression (area = %0.2f)' % logit_roc_auc)\n",
        "plt.plot([0, 1], [0, 1],'r--', color='saddlebrown')\n",
        "plt.xlim([0.0, 1.0])\n",
        "plt.ylim([0.0, 1.05])\n",
        "plt.xlabel('False Positive Rate',fontsize=16)\n",
        "plt.ylabel('True Positive Rate', fontsize=16)\n",
        "plt.title('ROC with SKLEARN', fontsize=18)\n",
        "plt.legend(loc=\"lower right\")\n",
        "plt.show()"
      ],
      "metadata": {
        "colab": {
          "base_uri": "https://localhost:8080/",
          "height": 484
        },
        "id": "fan29Bz-n6qX",
        "outputId": "81829b36-bbbd-4b8b-8e7b-1c5af00bedc9"
      },
      "execution_count": 114,
      "outputs": [
        {
          "output_type": "stream",
          "name": "stderr",
          "text": [
            "<ipython-input-114-930ab52c57a1>:8: UserWarning: color is redundantly defined by the 'color' keyword argument and the fmt string \"r--\" (-> color='r'). The keyword argument will take precedence.\n",
            "  plt.plot([0, 1], [0, 1],'r--', color='saddlebrown')\n"
          ]
        },
        {
          "output_type": "display_data",
          "data": {
            "text/plain": [
              "<Figure size 1500x700 with 1 Axes>"
            ],
            "image/png": "[encoded data removed]"
          },
          "metadata": {}
        }
      ],
      "id": "fan29Bz-n6qX"
    }
  ],
  "metadata": {
    "kernelspec": {
      "display_name": "Python 3",
      "language": "python",
      "name": "python3"
    },
    "language_info": {
      "codemirror_mode": {
        "name": "ipython",
        "version": 3
      },
      "file_extension": ".py",
      "mimetype": "text/x-python",
      "name": "python",
      "nbconvert_exporter": "python",
      "pygments_lexer": "ipython3",
      "version": "3.7.10"
    },
    "colab": {
      "provenance": []
    }
  },
  "nbformat": 4,
  "nbformat_minor": 5
}